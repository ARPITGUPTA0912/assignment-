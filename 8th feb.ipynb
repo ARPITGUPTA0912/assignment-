{
 "cells": [
  {
   "cell_type": "code",
   "execution_count": 5,
   "id": "ff4b0e13-62a3-4334-9000-a1dd13397eb8",
   "metadata": {},
   "outputs": [
    {
     "name": "stdout",
     "output_type": "stream",
     "text": [
      "8th feb\n",
      "Q1 What is Abstraction in OOps? Explain with an example.\n",
      "Abstraction is hiding the data  from users and show them only necessary information or features\n",
      "example\n",
      "use of abstract method\n"
     ]
    }
   ],
   "source": [
    "print(\"8th feb\")\n",
    "print(\"Q1 What is Abstraction in OOps? Explain with an example.\")\n",
    "print(\"Abstraction is hiding the data  from users and show them only necessary information or features\")\n",
    "print(\"example\")\n",
    "import abc\n",
    "\n",
    "class ab:\n",
    "    @abc.abstractmethod\n",
    "    def abst():\n",
    "        pass\n",
    "class use:\n",
    "    def abst(self):\n",
    "        print(\"use of abstract method\")\n",
    "\n",
    "d1 =use()\n",
    "d1.abst()\n"
   ]
  },
  {
   "cell_type": "code",
   "execution_count": 10,
   "id": "ab17f20d-a6e7-4b6d-80a8-50e91b846953",
   "metadata": {},
   "outputs": [
    {
     "name": "stdout",
     "output_type": "stream",
     "text": [
      "Q2. Differentiate between Abstraction and Encapsulation. Explain with an example.\n",
      "Abstraction is hiding the data  and encapsulation  is binding if data\n",
      "example\n",
      "\n",
      "use of abstract method by abc module\n",
      "\n",
      "example of encapsulation by making variable private\n"
     ]
    },
    {
     "data": {
      "text/plain": [
       "234"
      ]
     },
     "execution_count": 10,
     "metadata": {},
     "output_type": "execute_result"
    }
   ],
   "source": [
    "print(\"Q2. Differentiate between Abstraction and Encapsulation. Explain with an example.\")\n",
    "print(\"Abstraction is hiding the data  and encapsulation  is binding if data\")\n",
    "print(\"example\")\n",
    "class ab:\n",
    "    @abc.abstractmethod\n",
    "    def abst():\n",
    "        pass\n",
    "    def encaps(self, private):\n",
    "        self.__private = private\n",
    "    def get_private(self):\n",
    "        print(\"example of encapsulation by making variable private\")\n",
    "        return self.__private\n",
    "class use:\n",
    "    def abst(self):\n",
    "        print(\"\\nuse of abstract method by abc module\\n\")\n",
    "\n",
    "d1 =use()\n",
    "d1.abst()\n",
    "d2 =ab()\n",
    "d2.encaps(234)\n",
    "d2.get_private()\n",
    "\n"
   ]
  },
  {
   "cell_type": "code",
   "execution_count": 19,
   "id": "34c05f6c-2904-49d6-925f-d1d2dfbad19e",
   "metadata": {},
   "outputs": [
    {
     "name": "stdout",
     "output_type": "stream",
     "text": [
      "Q3. What is abc module in python? Why is it used?\n",
      "Ans\n",
      "abc stands for abstract base class and it is a inbuilt module in python to achive abstraction by declaring\n",
      "the class as abstractmethod and by making whole class abstract\n"
     ]
    }
   ],
   "source": [
    "print(\"Q3. What is abc module in python? Why is it used?\")\n",
    "print(\"Ans\")\n",
    "s=\"\"\"abc stands for abstract base class and it is a inbuilt module in python to achive abstraction by declaring\n",
    "the class as abstractmethod and by making whole class abstract\"\"\"\n",
    "print(s)\n"
   ]
  },
  {
   "cell_type": "code",
   "execution_count": 13,
   "id": "39288f8e-dc1f-471d-b484-39b628095e5b",
   "metadata": {},
   "outputs": [
    {
     "name": "stdout",
     "output_type": "stream",
     "text": [
      "Q4. How can we achieve data abstraction?\n",
      "Ans\n",
      "abstraction is achived by abc module and by its function\n"
     ]
    }
   ],
   "source": [
    "print(\"Q4. How can we achieve data abstraction?\")\n",
    "print (\"Ans\")\n",
    "print(\"abstraction is achived by abc module and by its function\" )"
   ]
  },
  {
   "cell_type": "code",
   "execution_count": 15,
   "id": "833368ee-9e20-4bc3-944a-8215d2fc653b",
   "metadata": {},
   "outputs": [
    {
     "name": "stdout",
     "output_type": "stream",
     "text": [
      "Q5. Can we create an instance of an abstract class? Explain your answer.\n",
      "Ans\n",
      "no, because abstract classes are not complete, as they may have some methods that are not defined\n"
     ]
    }
   ],
   "source": [
    "print(\"Q5. Can we create an instance of an abstract class? Explain your answer.\")\n",
    "print(\"Ans\")\n",
    "print(\"no, because abstract classes are not complete, as they may have some methods that are not defined\")"
   ]
  },
  {
   "cell_type": "code",
   "execution_count": null,
   "id": "38f91feb-f0db-43ff-a2a5-6f7ce6101519",
   "metadata": {},
   "outputs": [],
   "source": []
  }
 ],
 "metadata": {
  "kernelspec": {
   "display_name": "Python 3 (ipykernel)",
   "language": "python",
   "name": "python3"
  },
  "language_info": {
   "codemirror_mode": {
    "name": "ipython",
    "version": 3
   },
   "file_extension": ".py",
   "mimetype": "text/x-python",
   "name": "python",
   "nbconvert_exporter": "python",
   "pygments_lexer": "ipython3",
   "version": "3.10.8"
  }
 },
 "nbformat": 4,
 "nbformat_minor": 5
}
