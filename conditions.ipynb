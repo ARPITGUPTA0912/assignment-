{
 "cells": [
  {
   "cell_type": "code",
   "execution_count": 16,
   "id": "1dedbcd5-02b6-4858-8d1e-57b1456cc408",
   "metadata": {},
   "outputs": [
    {
     "name": "stdin",
     "output_type": "stream",
     "text": [
      "enter bsdk 789\n"
     ]
    },
    {
     "name": "stdout",
     "output_type": "stream",
     "text": [
      "good \n"
     ]
    }
   ],
   "source": [
    "marks = input (\"enter marks\")\n",
    "marks = int(marks)\n",
    "\n",
    "if marks >=80:\n",
    "\n",
    "\n",
    "    print (\"good \")\n",
    "elif marks >60 or marks<80:\n",
    "    print ('average')\n",
    "else :\n",
    "    print('bad')"
   ]
  },
  {
   "cell_type": "code",
   "execution_count": 19,
   "id": "10a92ca4-d33e-451e-bc21-50edae1601f4",
   "metadata": {},
   "outputs": [
    {
     "name": "stdin",
     "output_type": "stream",
     "text": [
      "enter amount 100\n"
     ]
    },
    {
     "name": "stdout",
     "output_type": "stream",
     "text": [
      "buy\n",
      "think\n"
     ]
    }
   ],
   "source": [
    "balance = int(input(\"enter amount\"))\n",
    "if balance >=100:\n",
    "    print (\"buy\")\n",
    "    if balance==100:\n",
    "        print (\"think\")\n",
    "    else :\n",
    "        print (\"dont think\")\n",
    "else:\n",
    "    print (\"dont buy\")"
   ]
  },
  {
   "cell_type": "code",
   "execution_count": 24,
   "id": "8ca0315a-ef1d-4408-b0c2-d045771913b6",
   "metadata": {},
   "outputs": [
    {
     "name": "stdout",
     "output_type": "stream",
     "text": [
      "arpit \n",
      "gupta\n",
      "life\n",
      "is\n",
      "good\n"
     ]
    }
   ],
   "source": [
    "l = [37,32,467,2345,24,]\n",
    "l1=[]\n",
    "l2= ['arpit ' , 'gupta','life','is' ,'good']\n",
    "for i in l2:\n",
    "    print(i)\n",
    "    l1.append(i.upper())"
   ]
  },
  {
   "cell_type": "code",
   "execution_count": 25,
   "id": "db854ed0-c06c-408f-8018-002a7fc6f0f6",
   "metadata": {},
   "outputs": [
    {
     "data": {
      "text/plain": [
       "['ARPIT ', 'GUPTA', 'LIFE', 'IS', 'GOOD']"
      ]
     },
     "execution_count": 25,
     "metadata": {},
     "output_type": "execute_result"
    }
   ],
   "source": [
    "l1"
   ]
  },
  {
   "cell_type": "code",
   "execution_count": null,
   "id": "36063843-bc32-4c7a-bcb8-c8e755257ebb",
   "metadata": {},
   "outputs": [],
   "source": []
  }
 ],
 "metadata": {
  "kernelspec": {
   "display_name": "Python 3 (ipykernel)",
   "language": "python",
   "name": "python3"
  },
  "language_info": {
   "codemirror_mode": {
    "name": "ipython",
    "version": 3
   },
   "file_extension": ".py",
   "mimetype": "text/x-python",
   "name": "python",
   "nbconvert_exporter": "python",
   "pygments_lexer": "ipython3",
   "version": "3.10.8"
  }
 },
 "nbformat": 4,
 "nbformat_minor": 5
}
