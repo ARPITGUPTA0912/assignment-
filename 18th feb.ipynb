{
 "cells": [
  {
   "cell_type": "markdown",
   "id": "e59ad34f-0830-40da-b168-07782d270d5e",
   "metadata": {},
   "source": [
    "##18 th feb webapi"
   ]
  },
  {
   "cell_type": "code",
   "execution_count": 1,
   "id": "d53558a5-fb8d-4333-ac2d-2ec4c714cde1",
   "metadata": {},
   "outputs": [
    {
     "name": "stdout",
     "output_type": "stream",
     "text": [
      "\n",
      "\n",
      "Q1. What is an API? Give an example, where an API is used in real life.\n",
      "\n",
      "APIs are used in web applications to connect user-facing front ends with critical \n",
      "back-end functionality and data. APIs are used to deliver material by streaming services such as\n",
      "Spotify and Netflix. APIs are used by automakers such as Tesla to provide software upgrades.\n"
     ]
    }
   ],
   "source": [
    "import logging\n",
    "logging.basicConfig(filename =\"webapi.log\", level = logging.DEBUG)\n",
    "q1 =\"\\n\\nQ1. What is an API? Give an example, where an API is used in real life.\\n\"\n",
    "print(q1)\n",
    "logging.info(q1)\n",
    "ans1 =\"\"\"APIs are used in web applications to connect user-facing front ends with critical \n",
    "back-end functionality and data. APIs are used to deliver material by streaming services such as\n",
    "Spotify and Netflix. APIs are used by automakers such as Tesla to provide software upgrades.\"\"\"\n",
    "print(ans1)\n",
    "logging.info(ans1)\n"
   ]
  },
  {
   "cell_type": "code",
   "execution_count": 2,
   "id": "9e152721-61e4-4f72-b675-67aa10a6fcaa",
   "metadata": {},
   "outputs": [
    {
     "name": "stdout",
     "output_type": "stream",
     "text": [
      "Q2. Give advantages and disadvantages of using API.\n",
      "\n",
      "It offers several benefits for both developers and businesses:\n",
      "Increased Visibility and Traffic\n",
      "First, it allows you to share your data and functionality with a broader audience, increasing \n",
      "traffic and visibility for your website or app.\n",
      "\n",
      "Seamless Integration\n",
      "It makes it easy to integrate with other applications and services, saving you time and money.\n",
      "\n",
      "Increased Efficiency\n",
      "It allows you to access data and functionality without navigating multiple menus or screens. This\n",
      "can speed up the development process and make your app or website more user-friendly.\n",
      "\n",
      "Easier Maintenance\n",
      "It reduces the amount of work needed on the back-end, making maintenance and updates more \n",
      "effortless and less time-consuming.\n",
      "\n",
      "Reduced Costs\n",
      "It allows developers to reuse code and functionality in multiple applications, saving time and\n",
      "money.\n",
      "\n",
      "Improved Customer Experience\n",
      "It makes it easier for users to access your data and functionality across multiple devices or\n",
      "platforms, improving the user experience and increasing customer satisfaction.\n",
      "\n",
      "There are some disadvantages to using Application Programmable Interfaces:\n",
      "\n",
      "Increased Complexity\n",
      "First, they can be complex and challenging to use, making them challenging for novice developers.\n",
      "\n",
      "Limited Functionality\n",
      "They may not have all the functionality you need, requiring additional development work.\n",
      "\n",
      "Dependency on Third Party Services\n",
      "If it depends on a third-party service, your application will also be unavailable.\n",
      "\n",
      "Security and Privacy Risks\n",
      "They can pose security and privacy risks if they’re not implemented correctly. Therefore, \n",
      "it’s essential to carefully consider these risks before using them in your application.\n"
     ]
    }
   ],
   "source": [
    "import logging\n",
    "logging.basicConfig(filename =\"webapi.log\", level = logging.DEBUG)\n",
    "q2=\"Q2. Give advantages and disadvantages of using API.\\n\"\n",
    "print(q2)\n",
    "logging.info(q2)\n",
    "ans2='''It offers several benefits for both developers and businesses:\n",
    "Increased Visibility and Traffic\n",
    "First, it allows you to share your data and functionality with a broader audience, increasing \n",
    "traffic and visibility for your website or app.\n",
    "\n",
    "Seamless Integration\n",
    "It makes it easy to integrate with other applications and services, saving you time and money.\n",
    "\n",
    "Increased Efficiency\n",
    "It allows you to access data and functionality without navigating multiple menus or screens. This\n",
    "can speed up the development process and make your app or website more user-friendly.\n",
    "\n",
    "Easier Maintenance\n",
    "It reduces the amount of work needed on the back-end, making maintenance and updates more \n",
    "effortless and less time-consuming.\n",
    "\n",
    "Reduced Costs\n",
    "It allows developers to reuse code and functionality in multiple applications, saving time and\n",
    "money.\n",
    "\n",
    "Improved Customer Experience\n",
    "It makes it easier for users to access your data and functionality across multiple devices or\n",
    "platforms, improving the user experience and increasing customer satisfaction.\n",
    "\n",
    "There are some disadvantages to using Application Programmable Interfaces:\n",
    "\n",
    "Increased Complexity\n",
    "First, they can be complex and challenging to use, making them challenging for novice developers.\n",
    "\n",
    "Limited Functionality\n",
    "They may not have all the functionality you need, requiring additional development work.\n",
    "\n",
    "Dependency on Third Party Services\n",
    "If it depends on a third-party service, your application will also be unavailable.\n",
    "\n",
    "Security and Privacy Risks\n",
    "They can pose security and privacy risks if they’re not implemented correctly. Therefore, \n",
    "it’s essential to carefully consider these risks before using them in your application.'''\n",
    "print(ans2)\n",
    "logging.info(ans2)\n"
   ]
  },
  {
   "cell_type": "code",
   "execution_count": 3,
   "id": "c14a439d-ee35-4b33-8013-103969f76176",
   "metadata": {},
   "outputs": [
    {
     "name": "stdout",
     "output_type": "stream",
     "text": [
      "Q3. What is a Web API? Differentiate between API and Web API.\n",
      "\n",
      "Web API is an API as the name suggests, it can be accessed over the web using the HTTP\n",
      "protocol. It is a framework that helps you to create and develop HTTP based RESTFUL services. \n",
      "The web API can be developed by using different technologies such as java, ASP.NET, etc. \n",
      "Web API is used in either a web server or a web browser\n",
      "Web API is an interface that permits two systems to interact with each other without any user \n",
      "interference.\n"
     ]
    }
   ],
   "source": [
    "import logging\n",
    "logging.basicConfig(filename =\"webapi.log\", level = logging.DEBUG)\n",
    "q3=\"Q3. What is a Web API? Differentiate between API and Web API.\\n\"\n",
    "print(q3)\n",
    "logging.info(q3)\n",
    "ans3 =\"\"\"Web API is an API as the name suggests, it can be accessed over the web using the HTTP\n",
    "protocol. It is a framework that helps you to create and develop HTTP based RESTFUL services. \n",
    "The web API can be developed by using different technologies such as java, ASP.NET, etc. \n",
    "Web API is used in either a web server or a web browser\n",
    "Web API is an interface that permits two systems to interact with each other without any user \n",
    "interference.\"\"\"\n",
    "print(ans3)\n",
    "logging.info(ans3)\n"
   ]
  },
  {
   "cell_type": "code",
   "execution_count": 4,
   "id": "5ce7ccd1-c292-4d09-9797-e012cbf8336b",
   "metadata": {},
   "outputs": [
    {
     "name": "stdout",
     "output_type": "stream",
     "text": [
      "Q4. Explain REST and SOAP Architecture. Mention shortcomings of SOAP.\n",
      "As we mentioned, the REST is a software architectural style. On the other hand, it isn’t\n",
      "standardized (like SOAP). It gives a lot of elasticity as it comes to implementation. For example\n",
      "there is no single and appropriate way to implement pagination. Therefore, REST defines a set of\n",
      "main, general constraints to follow while developing RESTful APIs. Let’s define them.\n",
      "\n",
      "The SOAP web services architecture is based on interactions between three components: a service\n",
      "provider, a service requester, and an optional service registry. A SOAP message is encoded as an \n",
      "XML document, consisting of an <Envelope> element, which contains an optional <Header> element,\n",
      "and a mandatory <Body> element.\n",
      "\n",
      "Disadvantages\n",
      "Bound by constraints\n",
      "Rest APIs are by and large bound by six architectural constraints which include the uniform \n",
      "interface, the client-server based nature, stateless operations, layered system architecture, \n",
      "etc. It’s important to understand that these constraints exist before building out your API.\n",
      "\n",
      "Learning curve for new developers\n",
      "It’s not exactly beginner friendly. Developers who aren't highly skilled might find themselves\n",
      "going through a steep learning curve when developing a Rest API. If they don't understand the \n",
      "limits of this web technology they could end up in situations where they get frustrated with its\n",
      "limitations.\n",
      "\n",
      "Lacks security\n",
      "Unlike other Web APIs, Rest doesn't impose any security protocols. This means that it's not the\n",
      "ideal technology if the service requires confidential data to be passed between the client and\n",
      "server. On the other hand, it's better suited to publicly available services.\n",
      "Limited transfer protocol support\n"
     ]
    }
   ],
   "source": [
    "import logging\n",
    "logging.basicConfig(filename =\"webapi.log\", level = logging.DEBUG)\n",
    "q4=\"\\nQ4. Explain REST and SOAP Architecture. Mention shortcomings of SOAP.\\n\"\n",
    "print(q4)\n",
    "logging.info(q4)\n",
    "ans4='''As we mentioned, the REST is a software architectural style. On the other hand, it isn’t\n",
    "standardized (like SOAP). It gives a lot of elasticity as it comes to implementation. For example\n",
    "there is no single and appropriate way to implement pagination. Therefore, REST defines a set of\n",
    "main, general constraints to follow while developing RESTful APIs. Let’s define them.\n",
    "\n",
    "The SOAP web services architecture is based on interactions between three components: a service\n",
    "provider, a service requester, and an optional service registry. A SOAP message is encoded as an \n",
    "XML document, consisting of an <Envelope> element, which contains an optional <Header> element,\n",
    "and a mandatory <Body> element.\n",
    "\n",
    "Disadvantages of soap\n",
    "Bound by constraints\n",
    "Rest APIs are by and large bound by six architectural constraints which include the uniform \n",
    "interface, the client-server based nature, stateless operations, layered system architecture, \n",
    "etc. It’s important to understand that these constraints exist before building out your API.\n",
    "\n",
    "Learning curve for new developers\n",
    "It’s not exactly beginner friendly. Developers who aren't highly skilled might find themselves\n",
    "going through a steep learning curve when developing a Rest API. If they don't understand the \n",
    "limits of this web technology they could end up in situations where they get frustrated with its\n",
    "limitations.\n",
    "\n",
    "Lacks security\n",
    "Unlike other Web APIs, Rest doesn't impose any security protocols. This means that it's not the\n",
    "ideal technology if the service requires confidential data to be passed between the client and\n",
    "server. On the other hand, it's better suited to publicly available services.\n",
    "Limited transfer protocol support'''\n",
    "\n",
    "print(ans4)\n",
    "logging.info(ans4)"
   ]
  },
  {
   "cell_type": "code",
   "execution_count": 5,
   "id": "7df31f51-ba87-4964-a331-ec9e7cf51336",
   "metadata": {},
   "outputs": [
    {
     "name": "stdout",
     "output_type": "stream",
     "text": [
      "Q5. Differentiate between REST and SOAP.\n",
      "Many legacy systems may still adhere to SOAP, while REST came later and is often viewed \n",
      "as a faster alternative in web-based scenarios. REST is a set of guidelines that offers flexible\n",
      "implementation, whereas SOAP is a protocol with specific requirements like XML messaging.\n",
      "\n",
      "REST APIs are lightweight, making them ideal for newer contexts like the Internet of Things (IoT)\n",
      "mobile application development, and serverless computing. SOAP web services offer built-in \n",
      "security and transaction compliance that align with many enterprise needs, but that also makes\n",
      "them heavier. Additionally, many public APIs, like the Google Maps API, follow the REST\n",
      "guidelines.\n"
     ]
    }
   ],
   "source": [
    "import logging\n",
    "logging.basicConfig(filename =\"webapi.log\", level = logging.DEBUG)\n",
    "q5=\"Q5. Differentiate between REST and SOAP.\"\n",
    "print(q5)\n",
    "logging.info(q5)\n",
    "ans5='''Many legacy systems may still adhere to SOAP, while REST came later and is often viewed \n",
    "as a faster alternative in web-based scenarios. REST is a set of guidelines that offers flexible\n",
    "implementation, whereas SOAP is a protocol with specific requirements like XML messaging.\n",
    "\n",
    "REST APIs are lightweight, making them ideal for newer contexts like the Internet of Things (IoT)\n",
    "mobile application development, and serverless computing. SOAP web services offer built-in \n",
    "security and transaction compliance that align with many enterprise needs, but that also makes\n",
    "them heavier. Additionally, many public APIs, like the Google Maps API, follow the REST\n",
    "guidelines.'''\n",
    "print(ans5)\n",
    "logging.info(ans5)"
   ]
  },
  {
   "cell_type": "code",
   "execution_count": null,
   "id": "a850853b-288a-4c3d-9011-60e6e6ce7053",
   "metadata": {},
   "outputs": [],
   "source": []
  }
 ],
 "metadata": {
  "kernelspec": {
   "display_name": "Python 3 (ipykernel)",
   "language": "python",
   "name": "python3"
  },
  "language_info": {
   "codemirror_mode": {
    "name": "ipython",
    "version": 3
   },
   "file_extension": ".py",
   "mimetype": "text/x-python",
   "name": "python",
   "nbconvert_exporter": "python",
   "pygments_lexer": "ipython3",
   "version": "3.10.8"
  }
 },
 "nbformat": 4,
 "nbformat_minor": 5
}
