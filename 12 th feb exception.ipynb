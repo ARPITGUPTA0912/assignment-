{
 "cells": [
  {
   "cell_type": "code",
   "execution_count": 15,
   "id": "ff4b0e13-62a3-4334-9000-a1dd13397eb8",
   "metadata": {},
   "outputs": [],
   "source": [
    "import logging\n",
    "logging.basicConfig(filename= \"error.log\", level=logging.DEBUG, format =\"%(asctime)s -%(name)s-%(message)s\")\n",
    "logging.info(\"12th feb\")\n",
    "q1=\"\"\"\"Q1. What is an Exception in python? Write the difference between Exceptions and errors\"\"\"\n",
    "logging.info(q1)\n",
    "ans =\"\"\"\" ans an exception is an error(unexpected) produce while running the program like divide by zero error\n",
    "An error is an issue in a program that prevents the program from completing its task. In comparison, \n",
    "an exception is a condition that interrupts the normal flow of the program.\"\"\"\n",
    "logging.info(ans)\n",
    "\n",
    "q2=\"\"\"What happens when an exception is not handled? Explain with an example\"\"\"\n",
    "ans2=\"program  is terminated when exception is not handled stop after it further there is no execution \"\n",
    "logging.info(q2)\n",
    "logging.info(ans2)\n",
    "try:\n",
    "    i=10/0\n",
    "except Exception as e:\n",
    "    logging.critical(e)\n",
    "q3 = \"Q3. Which Python statements are used to capture and handle exceptions? Explain with an example\"\n",
    "logging.info(q3)\n",
    "ans3 = \"for handling exception we use try statement and for capturing we use except \"\n",
    "try:\n",
    "    f = open(\"fi.txt\", \"r\")\n",
    "except Exception as e:\n",
    "    logging.error(e)\n",
    "q4 =\"Explain with an example:try and else ,finally,raise\"\n",
    "logging.info(q4)\n",
    "n=0\n",
    "try :\n",
    "    k =10//5\n",
    "    if n==0:\n",
    "        raise Exception(\" there is division by zero\")\n",
    "except Exception as e:\n",
    "    logging.error(e)\n",
    "else:\n",
    "    logging.info(\"your ans is\", k)\n",
    "    \n",
    "finally:\n",
    "    logging.info(\"division is complete\")\n",
    "    \n",
    "q5 =\"\"\"Q5. What are Custom Exceptions in python? Why do we need Custom Exceptions? Explain with an \n",
    "example\"\"\"\n",
    "ans5=\"\"\"custom exception are exception which are correct to display but according to your code is an \n",
    "error it is required in many program like in banking and we can use it witg help of raise \"\"\"\n",
    "logging.info(ans5)\n",
    "q6 =\"Create custom exception class. Use this class to handle an exception.\"\n",
    "class even(Exception): \n",
    "     pass\n",
    "try :\n",
    "    n =9\n",
    "    if n %2==1:\n",
    "        raise even\n",
    "    else :\n",
    "        print(n)\n",
    "except even as e:\n",
    "    logging.error(\"no is odd\")\n",
    "    \n"
   ]
  },
  {
   "cell_type": "code",
   "execution_count": null,
   "id": "e329fb0c-2093-4808-b766-652bc703535f",
   "metadata": {},
   "outputs": [],
   "source": []
  },
  {
   "cell_type": "code",
   "execution_count": null,
   "id": "c6b4f69f-b640-4433-b078-640d32107f5d",
   "metadata": {},
   "outputs": [],
   "source": []
  }
 ],
 "metadata": {
  "kernelspec": {
   "display_name": "Python 3 (ipykernel)",
   "language": "python",
   "name": "python3"
  },
  "language_info": {
   "codemirror_mode": {
    "name": "ipython",
    "version": 3
   },
   "file_extension": ".py",
   "mimetype": "text/x-python",
   "name": "python",
   "nbconvert_exporter": "python",
   "pygments_lexer": "ipython3",
   "version": "3.10.8"
  }
 },
 "nbformat": 4,
 "nbformat_minor": 5
}
