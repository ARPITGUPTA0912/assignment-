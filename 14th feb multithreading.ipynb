{
 "cells": [
  {
   "cell_type": "code",
   "execution_count": 3,
   "id": "ec926e6e-36a4-4fb3-b020-e73805c40abc",
   "metadata": {},
   "outputs": [
    {
     "name": "stdout",
     "output_type": "stream",
     "text": [
      "Q1. what is multithreading ?why is it used? Name the module used to handle threads\n",
      "Ans. Running several threads is similar to running several different programs concurrently, but with \n",
      "the following benefits −\n",
      "Multiple threads within a process share the same data space with the main thread and can therefore share\n",
      "information or communicate with each other more easily than if they were separate processes.\n",
      "Threads sometimes called light-weight processes and they do not require much memory overhead; they are cheaper \n",
      "than processes.\n",
      "we import threading module  to handle the thread \n"
     ]
    }
   ],
   "source": [
    "import logging\n",
    "logging.basicConfig(filename= \"multi.log\", level= logging.DEBUG )\n",
    "q1= \"Q1. what is multithreading ?why is it used? Name the module used to handle threads\"\n",
    "print(q1)\n",
    "logging.info(q1)\n",
    "ans1 =\"\"\"Ans. Running several threads is similar to running several different programs concurrently, but with \n",
    "the following benefits −\n",
    "Multiple threads within a process share the same data space with the main thread and can therefore share\n",
    "information or communicate with each other more easily than if they were separate processes.\n",
    "Threads sometimes called light-weight processes and they do not require much memory overhead; they are cheaper \n",
    "than processes.\n",
    "we import threading module  to handle the thread \"\"\"\n",
    "print(ans1)\n",
    "logging.info(ans1)\n"
   ]
  },
  {
   "cell_type": "code",
   "execution_count": 20,
   "id": "ad7f4bdf-4bd3-44e7-86de-35df505d01e9",
   "metadata": {},
   "outputs": [
    {
     "name": "stdout",
     "output_type": "stream",
     "text": [
      "Q2. why threading module used? write the use of the following functions\n",
      "activeCount\n",
      "currentThread\n",
      "enumerate\n",
      "\"Ans2. threading module is used for creating, controlling and managing threads in python\n",
      "threading.activeCount() − Returns the number of thread objects that are active.\n",
      "threading.currentThread() − Returns the number of thread objects in the caller's thread control.\n",
      "threading.enumerate() − Returns a list of all thread objects that are currently active.\n",
      "\n",
      "8\n",
      "0\n",
      "1\n",
      "2\n",
      "3\n",
      "4\n",
      "5\n",
      "6\n",
      "7\n",
      "8\n"
     ]
    }
   ],
   "source": [
    "q2 =\"\"\"Q2. why threading module used? write the use of the following functions\n",
    "activeCount\n",
    "currentThread\n",
    "enumerate\"\"\"\n",
    "print(q2)\n",
    "import logging\n",
    "logging.basicConfig(filename= \"multi.log\", level= logging.DEBUG )\n",
    "ans2 = \"\"\"\"Ans2. threading module is used for creating, controlling and managing threads in python\n",
    "threading.activeCount() − Returns the number of thread objects that are active.\n",
    "threading.currentThread() − Returns the number of thread objects in the caller's thread control.\n",
    "threading.enumerate() − Returns a list of all thread objects that are currently active.\"\"\"\n",
    "print(ans2)\n",
    "print()\n",
    "import threading\n",
    "def thr(I):\n",
    "    for i in range(I):\n",
    "        print(i)\n",
    "t = threading.Thread(target= thr, args= (9,))\n",
    "print(threading.active_count())\n",
    "logging.info(threading.active_count())\n",
    "logging.info(threading.current_thread())\n",
    "logging.info(threading.enumerate())\n",
    "\n",
    "\n",
    "\n",
    "t.start()\n",
    "\n",
    "\n",
    "\n"
   ]
  },
  {
   "cell_type": "code",
   "execution_count": 3,
   "id": "ba156bfd-4bf6-4673-92c1-4a7085a2dd5f",
   "metadata": {},
   "outputs": [
    {
     "name": "stdout",
     "output_type": "stream",
     "text": [
      "3. Explain the following functions\n",
      "1. run()\n",
      "2. start()\n",
      "3. join()\n",
      "4. isAlive()\n",
      "run() − The run() method is the entry point for a thread.\n",
      "start() − The start() method starts a thread by calling the run method.\n",
      "join() − The join() waits for threads to terminate.\n",
      "isAlive() − The isAlive() method checks whether a thread is still executing.\n"
     ]
    }
   ],
   "source": [
    "import logging \n",
    "logging.basicConfig(filename=\"multi.log\", level=logging.DEBUG)\n",
    "q3 ='''3. Explain the following functions\n",
    "1. run()\n",
    "2. start()\n",
    "3. join()\n",
    "4. isAlive()'''\n",
    "print(q3)\n",
    "logging.info(q3)\n",
    "ans3 ='''run() − The run() method is the entry point for a thread.\n",
    "start() − The start() method starts a thread by calling the run method.\n",
    "join() − The join() waits for threads to terminate.\n",
    "isAlive() − The isAlive() method checks whether a thread is still executing.'''\n",
    "print(ans3)\n",
    "logging.info(ans3)"
   ]
  },
  {
   "cell_type": "code",
   "execution_count": 8,
   "id": "6ef78a1d-dc20-4a2b-b2f1-abfa569b9d02",
   "metadata": {},
   "outputs": [
    {
     "name": "stdout",
     "output_type": "stream",
     "text": [
      "4. write a python program to create two threads. Thread one must print the list of squares and thread\n",
      "two must print the list of cubes\n",
      "square of num 0\n",
      "square of num 1\n",
      "square of num 4\n",
      "square of num 9\n",
      "square of num 16\n",
      "cube of no 0\n",
      "False\n",
      "cube of no 1\n",
      "False\n",
      "cube of no 8\n",
      "False\n",
      "cube of no 27\n",
      "False\n",
      "cube of no 64\n",
      "False\n"
     ]
    }
   ],
   "source": [
    "import logging \n",
    "logging.basicConfig(filename=\"multi.log\", level=logging.DEBUG)\n",
    "q4 ='''4. write a python program to create two threads. Thread one must print the list of squares and thread\n",
    "two must print the list of cubes'''\n",
    "print(q4)\n",
    "logging.info(q4)\n",
    "ans4=\"Ans4.\"\n",
    "import threading\n",
    "def sq(x):\n",
    "    print(\"square of num\", x**2)\n",
    "    \n",
    "def cu(x):\n",
    "    print(\"cube of no\",x**3)\n",
    "\n",
    "t1= [threading.Thread(target= sq, args=(i,)) for i in range(5)]\n",
    "t2=[threading.Thread(target= cu , args=(i,)) for i in range(5)]\n",
    "for j in t1:\n",
    "    \n",
    "    j.start()\n",
    "    logging.info(j.is_alive())\n",
    "for k in t2:\n",
    "    k.start()\n",
    "    \n"
   ]
  },
  {
   "cell_type": "code",
   "execution_count": 10,
   "id": "fd05d85a-d649-4081-b5a8-bdd3372c643b",
   "metadata": {},
   "outputs": [
    {
     "name": "stdout",
     "output_type": "stream",
     "text": [
      "5. State advantages and disadvantages of multithreading\n",
      "Improved performance and concurrency\n",
      "simplified coding of remote procedure calls and conversations\n",
      "Simultaneous access to multiple applications\n",
      "Reduced number of required servers\n",
      "\n",
      "Multithreaded and multicontexted applications present the following disadvantages:\n",
      "Difficulty of writing code\n",
      "Difficulty of debugging\n",
      "Difficulty of debugging\n"
     ]
    }
   ],
   "source": [
    "q5='5. State advantages and disadvantages of multithreading'\n",
    "print (q5)\n",
    "ans5 =\"\"\"Improved performance and concurrency\n",
    "simplified coding of remote procedure calls and conversations\n",
    "Simultaneous access to multiple applications\n",
    "Reduced number of required servers\n",
    "\n",
    "Multithreaded and multicontexted applications present the following disadvantages:\n",
    "Difficulty of writing code\n",
    "Difficulty of debugging\n",
    "Difficulty of debugging\"\"\"\n",
    "print(ans5)"
   ]
  },
  {
   "cell_type": "code",
   "execution_count": 11,
   "id": "8a88be21-6451-4bb2-9e70-d22f341c3ec7",
   "metadata": {},
   "outputs": [
    {
     "name": "stdout",
     "output_type": "stream",
     "text": [
      "Explain deadlocks and race conditions.\n",
      "A race condition occurs when two threads use the same variable at a given time. \n",
      "Deadlock exists when two threads seek one lock simultaneously. This situation will stop both\n",
      "threads from processing or executing the functions.\n"
     ]
    }
   ],
   "source": [
    "q6=\"Explain deadlocks and race conditions.\"\n",
    "print(q6)\n",
    "ans6=\"\"\"A race condition occurs when two threads use the same variable at a given time. \n",
    "Deadlock exists when two threads seek one lock simultaneously. This situation will stop both\n",
    "threads from processing or executing the functions.\"\"\"\n",
    "print(ans6)"
   ]
  },
  {
   "cell_type": "code",
   "execution_count": null,
   "id": "cbba5d0c-eee9-424c-9217-704dde5d426d",
   "metadata": {},
   "outputs": [],
   "source": []
  }
 ],
 "metadata": {
  "kernelspec": {
   "display_name": "Python 3 (ipykernel)",
   "language": "python",
   "name": "python3"
  },
  "language_info": {
   "codemirror_mode": {
    "name": "ipython",
    "version": 3
   },
   "file_extension": ".py",
   "mimetype": "text/x-python",
   "name": "python",
   "nbconvert_exporter": "python",
   "pygments_lexer": "ipython3",
   "version": "3.10.8"
  }
 },
 "nbformat": 4,
 "nbformat_minor": 5
}
