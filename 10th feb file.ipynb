{
 "cells": [
  {
   "cell_type": "code",
   "execution_count": 2,
   "id": "d7ffaa64-fe22-42a5-8fb3-588432bfef21",
   "metadata": {},
   "outputs": [
    {
     "name": "stdout",
     "output_type": "stream",
     "text": [
      "10th feb files\n",
      "Q1. Which function is used to open a file? What are the different modes of opening a file? Explain each \n",
      "mode of file opening.\n",
      "Ans\n",
      "there are two function open() and with open() to open a file\n",
      "'r'       open for reading (default)\n",
      "'w'       open for writing, truncating the file first\n",
      "'x'       create a new file and open it for writing\n",
      "'a'       open for writing, appending to the end of the file if it exists\n",
      "'b'       binary mode\n",
      "'t'       text mode (default)\n",
      "'+'       open a disk file for updating (reading and writing)\n",
      "'U'       universal newline mode (deprecated)\n"
     ]
    }
   ],
   "source": [
    "print(\"10th feb files\")\n",
    "q1 ='''Q1. Which function is used to open a file? What are the different modes of opening a file? Explain each \n",
    "mode of file opening.'''\n",
    "print(q1)\n",
    "print (\"Ans\")\n",
    "print(\"there are two function open() and with open() to open a file\" )\n",
    "mode =''''r'       open for reading (default)\n",
    "'w'       open for writing, truncating the file first\n",
    "'x'       create a new file and open it for writing\n",
    "'a'       open for writing, appending to the end of the file if it exists\n",
    "'b'       binary mode\n",
    "'t'       text mode (default)\n",
    "'+'       open a disk file for updating (reading and writing)\n",
    "'U'       universal newline mode (deprecated)'''\n",
    "print (mode)"
   ]
  },
  {
   "cell_type": "code",
   "execution_count": 4,
   "id": "95363008-784a-4894-8527-52c34930195f",
   "metadata": {},
   "outputs": [
    {
     "name": "stdout",
     "output_type": "stream",
     "text": [
      "Q2. Why close() function is used? Why is it important to close a file?\n",
      "Ans\n",
      "The close() method closes an open file. You should always close your files, in some cases, due to \n",
      "buffering, changes made to a file may not show until you close the file.\n"
     ]
    }
   ],
   "source": [
    "q2='''Q2. Why close() function is used? Why is it important to close a file?'''\n",
    "print(q2)\n",
    "print(\"Ans\")\n",
    "ans= '''The close() method closes an open file. You should always close your files, in some cases, due to \n",
    "buffering, changes made to a file may not show until you close the file.'''\n",
    "print(ans)\n"
   ]
  },
  {
   "cell_type": "code",
   "execution_count": 8,
   "id": "d9f3b63b-6826-4faf-90ee-b6075a8f7f2c",
   "metadata": {},
   "outputs": [
    {
     "name": "stdout",
     "output_type": "stream",
     "text": [
      "Q3. Write a python program to create a text file. Write ‘I want to become a Data Scientist’ in that file.\n",
      "Then close the file. Open this file and read the content of the file.\n",
      "Ans\n",
      "I want to become a Data Scientist\n"
     ]
    }
   ],
   "source": [
    "q3 ='''Q3. Write a python program to create a text file. Write ‘I want to become a Data Scientist’ in that file.\n",
    "Then close the file. Open this file and read the content of the file.'''\n",
    "print(q3)\n",
    "print(\"Ans\")\n",
    "f =open(\"file.txt\", \"w\")\n",
    "f.write(\"I want to become a Data Scientist\")\n",
    "f.close()\n",
    "f = open (\"file.txt\", \"r\")\n",
    "print(f.read())\n",
    "f.close()"
   ]
  },
  {
   "cell_type": "code",
   "execution_count": 41,
   "id": "4679bcc5-bb19-4945-875f-e3df0629e9bc",
   "metadata": {},
   "outputs": [
    {
     "name": "stdout",
     "output_type": "stream",
     "text": [
      "Q4. Explain the following with python code: read(), readline() and readlines().\n",
      "Ans\n",
      "Read ( ): Returns the read bytes in the form of a string.\n",
      "\n",
      " Reads n bytes; if n is not specified, then reads the entire file.\n",
      "\n",
      "Readline ( ): Reads a line of the file and returns in the form of a string.\n",
      "\n",
      "Readline ( ) returns the next line of the file, which contains a newline character in the end.\n",
      "\n",
      "Also, if the end of the file is reached, it will return an empty string.\n",
      "\n",
      "readlines ( ): Reads all the lines and returns them as a string element in a list.return them as a string \n",
      "\n",
      "element in a list. \n"
     ]
    }
   ],
   "source": [
    "q4 ='''Q4. Explain the following with python code: read(), readline() and readlines().'''\n",
    "print(q4)\n",
    "print(\"Ans\")\n",
    "ans4= '''Read ( ): Returns the read bytes in the form of a string.\n",
    " Reads n bytes; if n is not specified, then reads the entire file.\n",
    "Readline ( ): Reads a line of the file and returns in the form of a string.\n",
    "Readline ( ) returns the next line of the file, which contains a newline character in the end.\n",
    "Also, if the end of the file is reached, it will return an empty string.\n",
    "readlines ( ): Reads all the lines and returns them as a string element in a list.return them as a string \n",
    "element in a list. '''\n",
    "\n",
    "f = open(\"text.txt\",\"w\" )\n",
    "f.write(ans4)\n",
    "f.close()\n",
    "f = open(\"text.txt\", \"r\")\n",
    "print(f.read(58))\n",
    "print(f.readline())\n",
    "\n",
    "p=f.readlines()\n",
    "f.close()\n",
    "for i in p:\n",
    "    print(i)"
   ]
  },
  {
   "cell_type": "code",
   "execution_count": 44,
   "id": "9827417f-55bf-4a7a-ba80-66b262e55a72",
   "metadata": {},
   "outputs": [
    {
     "name": "stdout",
     "output_type": "stream",
     "text": [
      "Q5. Explain why with statement is used with open(). What is the advantage of using with statement and\n",
      "open() together?\n",
      "Ans\n",
      "The with statement works with the open() function to open a file. Unlike open() where you have to close\n",
      "the file with the close() method, the with statement closes the file for you without you telling it to.\n",
      "example\n",
      "Read ( ): Returns the read bytes in the form of a string.\n",
      "\n"
     ]
    }
   ],
   "source": [
    "q5 ='''Q5. Explain why with statement is used with open(). What is the advantage of using with statement and\n",
    "open() together?'''\n",
    "print(q5)\n",
    "print(\"Ans\")\n",
    "ans='''The with statement works with the open() function to open a file. Unlike open() where you have to close\n",
    "the file with the close() method, the with statement closes the file for you without you telling it to.'''\n",
    "print(ans)\n",
    "print(\"example\")\n",
    "with open (\"text.txt\", \"r\") as file:\n",
    "    file.seek(0)\n",
    "    print(file.readline())"
   ]
  },
  {
   "cell_type": "code",
   "execution_count": 50,
   "id": "16e8685b-015a-498d-8e5e-59279ba1bcef",
   "metadata": {},
   "outputs": [
    {
     "name": "stdout",
     "output_type": "stream",
     "text": [
      "Q6. Explain the write() and writelines() functions. Give a suitable example.\n",
      "\n",
      "Ans\n",
      "Q6. Explain the write() and writelines() functions. Give a suitable example.\n",
      "Write ( ): In this function, we must pass a single argument, the string we want to insert into the file.\n",
      "      \n",
      "Writelines ( ): In this function, we must pass an array or a list consisting of multiple strings.\n",
      "It is used to insert multiple various strings into the file at a single time.\n"
     ]
    }
   ],
   "source": [
    "q6 ='''Q6. Explain the write() and writelines() functions. Give a suitable example.\\n'''\n",
    "print(q6)\n",
    "print(\"Ans\")\n",
    "ans= [\"\"\"Write ( ): In this function, we must pass a single argument, the string we want to insert into the file.\n",
    "      \\n\"\"\",\n",
    "'''Writelines ( ): In this function, we must pass an array or a list consisting of multiple strings.\n",
    "It is used to insert multiple various strings into the file at a single time.''' ]\n",
    "with open (\"test.txt\", \"w\") as f:\n",
    "    f.write(q6)\n",
    "    f.writelines(ans)\n",
    "with open (\"test.txt\") as file:\n",
    "    print(file.read())"
   ]
  },
  {
   "cell_type": "code",
   "execution_count": null,
   "id": "adbfe223-3b6d-46b5-874f-ccb15fa981c8",
   "metadata": {},
   "outputs": [],
   "source": []
  }
 ],
 "metadata": {
  "kernelspec": {
   "display_name": "Python 3 (ipykernel)",
   "language": "python",
   "name": "python3"
  },
  "language_info": {
   "codemirror_mode": {
    "name": "ipython",
    "version": 3
   },
   "file_extension": ".py",
   "mimetype": "text/x-python",
   "name": "python",
   "nbconvert_exporter": "python",
   "pygments_lexer": "ipython3",
   "version": "3.10.8"
  }
 },
 "nbformat": 4,
 "nbformat_minor": 5
}
