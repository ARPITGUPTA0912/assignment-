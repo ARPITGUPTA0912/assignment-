{
 "cells": [
  {
   "cell_type": "code",
   "execution_count": 4,
   "id": "dd3c85c9-9b39-4305-a52c-f90b0c276da0",
   "metadata": {},
   "outputs": [
    {
     "name": "stdout",
     "output_type": "stream",
     "text": [
      "3rd feb\n",
      "Q1\n",
      "def is the keyword used for creating function\n",
      "[1, 3, 5, 7, 9, 11, 13, 15, 17, 19, 21, 23]\n"
     ]
    }
   ],
   "source": [
    "print (\"3rd feb\")\n",
    "print(\"Q1\")\n",
    "print(\"def is the keyword used for creating function\")\n",
    "def fun():\n",
    "    l=[]\n",
    "    for i in range(1, 25):\n",
    "        if i%2!= 0:\n",
    "            l.append(i)\n",
    "        else:\n",
    "            pass\n",
    "    print(l)  \n",
    "f = fun()\n"
   ]
  },
  {
   "cell_type": "code",
   "execution_count": 5,
   "id": "f0510409-4944-4e31-acd0-2ec6dc3ebbfe",
   "metadata": {},
   "outputs": [
    {
     "name": "stdout",
     "output_type": "stream",
     "text": [
      "Q2 ans\n",
      "*args and **kwargs are special symbol used for argument passing \n",
      "*args is a special symbol used for variable arguments\n",
      "**kwargs used for variable length of argument list\n",
      "examples of args\n",
      "7\n",
      "43479.33\n",
      "example of **kwars\n",
      "5\n"
     ]
    }
   ],
   "source": [
    "print ( \"Q2 ans\")\n",
    "print(\"*args and **kwargs are special symbol used for argument passing \")\n",
    "print(\"*args is a special symbol used for variable arguments\")\n",
    "print (\"**kwargs used for variable length of argument list\")\n",
    "\n",
    "print(\"examples of args\")\n",
    "\n",
    "def add (*a):\n",
    "    su = 0\n",
    "    for i in a:\n",
    "        su = su+i\n",
    "    return su\n",
    "print( add(3,4))\n",
    "print(add(22.33,43223,234))\n",
    "print(\"example of **kwars\")\n",
    "def sp(**kwargs):\n",
    "    su = 0\n",
    "    for key, value in kwargs.items():\n",
    "        su = su+value\n",
    "    return su\n",
    "\n",
    "sm = sp(arpit=2,deepak=0,elina=1,sayam=2)\n",
    "print(sm)"
   ]
  },
  {
   "cell_type": "code",
   "execution_count": 6,
   "id": "4f5fbcda-f73f-4985-9158-f35dcea39788",
   "metadata": {},
   "outputs": [
    {
     "name": "stdout",
     "output_type": "stream",
     "text": [
      "Q3 ans\n",
      "Iterator in Python is an object that is used to iterate over iterable objects  like lists, tuples, dicts, and sets\n",
      "iter() used to initialise the iterator object and next () used for iteration.\n",
      "2\n",
      "4\n",
      "6\n",
      "8\n",
      "10\n"
     ]
    }
   ],
   "source": [
    "print(\"Q3 ans\")\n",
    "print(\"Iterator in Python is an object that is used to iterate over iterable objects\",\n",
    "     \" like lists, tuples, dicts, and sets\")\n",
    "print(\"iter() used to initialise the iterator object and next () used for iteration.\")\n",
    "p =[2, 4, 6, 8, 10, 12, 14, 16, 18, 20]\n",
    "ite = iter(p)\n",
    "print(next(ite))\n",
    "print(next(ite))\n",
    "print(next(ite))\n",
    "print(next(ite))\n",
    "print(next(ite))"
   ]
  },
  {
   "cell_type": "code",
   "execution_count": 7,
   "id": "e30a3429-9754-4288-83d8-44d204a88200",
   "metadata": {},
   "outputs": [
    {
     "name": "stdout",
     "output_type": "stream",
     "text": [
      "Q4 ans\n",
      "A Python generator function allows you to declare a function that behaves like an iterator,\n",
      "providing a faster and easier way to create iterators.\n",
      "example\n",
      "0\n",
      "1\n",
      "2\n",
      "3\n",
      "4\n"
     ]
    }
   ],
   "source": [
    "print(\"Q4 ans\")\n",
    "s ='''A Python generator function allows you to declare a function that behaves like an iterator,\n",
    "providing a faster and easier way to create iterators.'''\n",
    "print(s)\n",
    "y ='''yield keyword is used to create a generator function. \n",
    "The yield keyword in Python is similar to a return statement used for returning values in Python which returns a\n",
    "generator object to the one who calls the function which contains yield, instead of simply returning a value'''\n",
    "print(\"example\")\n",
    "def gen(n):\n",
    "    a =0\n",
    "    while a<n:\n",
    "        yield a\n",
    "        a +=1\n",
    "        \n",
    "for i in gen(5):\n",
    "    print(i)"
   ]
  },
  {
   "cell_type": "code",
   "execution_count": 8,
   "id": "cdc44432-4ecb-4e78-a293-156ff5dbcfa8",
   "metadata": {},
   "outputs": [
    {
     "name": "stdout",
     "output_type": "stream",
     "text": [
      "Q5 ans\n",
      "2\n",
      "3\n",
      "5\n",
      "7\n",
      "11\n",
      "13\n",
      "17\n",
      "19\n",
      "23\n",
      "29\n",
      "31\n",
      "37\n",
      "41\n",
      "43\n",
      "47\n",
      "53\n",
      "59\n",
      "61\n",
      "67\n",
      "71\n"
     ]
    }
   ],
   "source": [
    "print(\"Q5 ans\")\n",
    "def getPrimes():\n",
    "    yield 2\n",
    "    i = 3\n",
    "    while True:\n",
    "        for a in  range(2,i):\n",
    "            if i % a == 0:\n",
    "                break\n",
    "        \n",
    "        else:\n",
    "            yield i\n",
    "        i += 1\n",
    "p =getPrimes()\n",
    "for i in range(20):\n",
    "     print(next(p))"
   ]
  },
  {
   "cell_type": "code",
   "execution_count": 5,
   "id": "d6924ed9-94b2-452e-a59e-6aa49e9c0ded",
   "metadata": {},
   "outputs": [
    {
     "name": "stdout",
     "output_type": "stream",
     "text": [
      "Q6 Ans\n",
      "0\n",
      "1\n",
      "1\n",
      "2\n",
      "3\n",
      "5\n",
      "8\n",
      "13\n",
      "21\n",
      "34\n"
     ]
    }
   ],
   "source": [
    "print(\"Q6 Ans\")\n",
    "def fib(n):\n",
    "    a=0\n",
    "    b=1\n",
    "    print (a)\n",
    "    print(b)\n",
    "    i = 2\n",
    "    while i<n:\n",
    "        c = a\n",
    "        a= b\n",
    "        b = c+b\n",
    "       \n",
    "        print(b)\n",
    "       \n",
    "        i+=1\n",
    "      \n",
    "f = fib(10)"
   ]
  },
  {
   "cell_type": "code",
   "execution_count": 6,
   "id": "363a9ab9-4fd5-4511-8414-97c846d17652",
   "metadata": {},
   "outputs": [
    {
     "name": "stdout",
     "output_type": "stream",
     "text": [
      "Q7 Ans\n"
     ]
    },
    {
     "data": {
      "text/plain": [
       "['p', 'w', 's', 'k', 'i', 'l', 'l', 's']"
      ]
     },
     "execution_count": 6,
     "metadata": {},
     "output_type": "execute_result"
    }
   ],
   "source": [
    "print(\"Q7 Ans\")\n",
    "s = 'pwskills'\n",
    "[x for x in s]\n"
   ]
  },
  {
   "cell_type": "code",
   "execution_count": 4,
   "id": "52e6649b-6aa0-4b4e-ad74-1a713f7a4a96",
   "metadata": {},
   "outputs": [
    {
     "name": "stdout",
     "output_type": "stream",
     "text": [
      "Q8 Ans\n"
     ]
    },
    {
     "name": "stdin",
     "output_type": "stream",
     "text": [
      "enter number 121\n"
     ]
    },
    {
     "name": "stdout",
     "output_type": "stream",
     "text": [
      "True\n"
     ]
    }
   ],
   "source": [
    "print(\"Q8 Ans\")\n",
    "def pall ():\n",
    "    n =int( input (\"enter number\"))\n",
    "    s = n\n",
    "    su=0\n",
    "    while n>0:\n",
    "        a=n%10\n",
    "        su = su*10 +a\n",
    "        \n",
    "        n = n//10\n",
    "        \n",
    "    if s==su:\n",
    "        return True\n",
    "    else:\n",
    "        return False\n",
    "p =pall()\n",
    "print(p)"
   ]
  },
  {
   "cell_type": "code",
   "execution_count": 11,
   "id": "cd626033-ac10-4a33-b8e8-d64a8e1ab22c",
   "metadata": {},
   "outputs": [
    {
     "name": "stdout",
     "output_type": "stream",
     "text": [
      "Q9 ans\n",
      "[1, 3, 5, 7, 9, 11, 13, 15, 17, 19, 21, 23, 25, 27, 29, 31, 33, 35, 37, 39, 41, 43, 45, 47, 49, 51, 53, 55, 57, 59, 61, 63, 65, 67, 69, 71, 73, 75, 77, 79, 81, 83, 85, 87, 89, 91, 93, 95, 97, 99]\n"
     ]
    }
   ],
   "source": [
    "print(\"Q9 ans\")\n",
    "l1 =[i for i in range(1, 100) ]\n",
    "l2 = list(filter( lambda x: x%2!=0,l1))\n",
    "print(l2)"
   ]
  },
  {
   "cell_type": "code",
   "execution_count": null,
   "id": "ba154681-07e9-4e7b-96c5-b646667e49e3",
   "metadata": {},
   "outputs": [],
   "source": []
  }
 ],
 "metadata": {
  "kernelspec": {
   "display_name": "Python 3 (ipykernel)",
   "language": "python",
   "name": "python3"
  },
  "language_info": {
   "codemirror_mode": {
    "name": "ipython",
    "version": 3
   },
   "file_extension": ".py",
   "mimetype": "text/x-python",
   "name": "python",
   "nbconvert_exporter": "python",
   "pygments_lexer": "ipython3",
   "version": "3.10.8"
  }
 },
 "nbformat": 4,
 "nbformat_minor": 5
}
