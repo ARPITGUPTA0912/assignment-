{
 "cells": [
  {
   "cell_type": "code",
   "execution_count": 7,
   "id": "03e18151-6484-439b-abbb-5bde60428aef",
   "metadata": {},
   "outputs": [
    {
     "name": "stdout",
     "output_type": "stream",
     "text": [
      "30 th jan\n",
      "Q1 ans\n"
     ]
    },
    {
     "name": "stdin",
     "output_type": "stream",
     "text": [
      "enter your percentage 90\n"
     ]
    },
    {
     "name": "stdout",
     "output_type": "stream",
     "text": [
      "your grade is B\n"
     ]
    }
   ],
   "source": [
    "print(\"30 th jan\")\n",
    "print(\"Q1 ans\")\n",
    "percentage =int (input(\"enter your percentage\"))\n",
    "if percentage >90:\n",
    "    print(\"your grade is A\")\n",
    "elif percentage> 80 and percentage <= 90  :\n",
    "    print(\"your grade is B\")\n",
    "elif percentage>=60 and percentage<=80:\n",
    "    print(\"your grade is C\")\n",
    "else:\n",
    "    print(\"your grade is D\")"
   ]
  },
  {
   "cell_type": "code",
   "execution_count": 10,
   "id": "6b324fc7-fcf9-4f09-9589-c0d12a39ce7d",
   "metadata": {},
   "outputs": [
    {
     "name": "stdout",
     "output_type": "stream",
     "text": [
      "Q2 ans\n"
     ]
    },
    {
     "name": "stdin",
     "output_type": "stream",
     "text": [
      "enter your cost price of bike 500000\n"
     ]
    },
    {
     "name": "stdout",
     "output_type": "stream",
     "text": [
      "your road tax  is 15%\n"
     ]
    }
   ],
   "source": [
    "print (\"Q2 ans\")\n",
    "price=int (input(\"enter your cost price of bike\"))\n",
    "if price >100000:\n",
    "    print(\"your road tax  is 15%\")\n",
    "elif price> 50000 and price <= 100000  :\n",
    "    print(\"your road tax is 10%\")\n",
    "else:\n",
    "    print(\"you rroad tax is 5%\")"
   ]
  },
  {
   "cell_type": "code",
   "execution_count": null,
   "id": "010f6502-84b0-452e-9bce-fda1dd7e66a1",
   "metadata": {},
   "outputs": [],
   "source": [
    "print(\"Q3 ans\")\n",
    "city =input(\"enter your city\")\n",
    "city= city.upper()\n",
    "if city == 'DELHI' :\n",
    "    print(\" Famous monument present in Delhi is Red Fort \")\n",
    "elif city == 'AGRA '  :\n",
    "    print(\"Famous monument present in Agra is Taj Mahal\")\n",
    "elif city == 'JAIPUR'  :\n",
    "    print(\"Famous monument present in Jaipur is Jal Mahal\")\n",
    "else:\n",
    "    print(\" data of monument of the  \"+ city+ \" is not present\" )\n",
    "    "
   ]
  },
  {
   "cell_type": "code",
   "execution_count": 1,
   "id": "433e6f0d-2ce8-4012-8d7a-a7beeca0c5b9",
   "metadata": {},
   "outputs": [
    {
     "name": "stdout",
     "output_type": "stream",
     "text": [
      "Q4 ans\n"
     ]
    },
    {
     "name": "stdin",
     "output_type": "stream",
     "text": [
      "enter your number 67\n"
     ]
    },
    {
     "name": "stdout",
     "output_type": "stream",
     "text": [
      "2\n"
     ]
    }
   ],
   "source": [
    "print(\"Q4 ans\")\n",
    "number =int (input(\"enter your number\"))\n",
    "count = 0\n",
    "while number>=10:\n",
    "    \n",
    "    count =count+1\n",
    "    \n",
    "    number =number/3\n",
    "print (count) "
   ]
  },
  {
   "cell_type": "code",
   "execution_count": 4,
   "id": "6836aeb8-bf7b-4243-9f02-b99a7bff2f98",
   "metadata": {},
   "outputs": [
    {
     "name": "stdout",
     "output_type": "stream",
     "text": [
      "Q5 ans\n",
      " while loop is used to repeat a part of code untill the defined condition reached\n"
     ]
    },
    {
     "name": "stdin",
     "output_type": "stream",
     "text": [
      "enter your number 4\n"
     ]
    },
    {
     "name": "stdout",
     "output_type": "stream",
     "text": [
      "0\n"
     ]
    }
   ],
   "source": [
    "print(\"Q5 ans\")\n",
    "print (\" while loop is used to repeat a part of code untill the defined condition reached\")\n",
    "number =int (input(\"enter your number\"))\n",
    "count = 0\n",
    "while number>=10:\n",
    "    \n",
    "    count =count+1\n",
    "    \n",
    "    number =number/3\n",
    "print (count) "
   ]
  },
  {
   "cell_type": "code",
   "execution_count": 9,
   "id": "7cc5120f-aa51-4e12-9f11-f6abada2e02d",
   "metadata": {},
   "outputs": [
    {
     "name": "stdout",
     "output_type": "stream",
     "text": [
      "Q6 ans\n"
     ]
    },
    {
     "name": "stdin",
     "output_type": "stream",
     "text": [
      "enter your number 5\n"
     ]
    },
    {
     "name": "stdout",
     "output_type": "stream",
     "text": [
      "1st pattern\n",
      "\n",
      "* \n",
      "* * \n",
      "* * * \n",
      "* * * * \n",
      "* * * * * \n",
      "\n",
      "2nd pattern \n",
      "\n",
      " *  *  *  *  * \n",
      " *  *  *  * \n",
      " *  *  * \n",
      " *  * \n",
      " * \n",
      "\n",
      " 3rd pattern\n",
      " \n",
      "    * \n",
      "   * * \n",
      "  * * * \n",
      " * * * * \n",
      "* * * * * \n",
      "\n"
     ]
    }
   ],
   "source": [
    "print(\"Q6 ans\")\n",
    "n =int (input(\"enter your number\"))\n",
    "i=1\n",
    "print (\"1st pattern\\n\")\n",
    "\n",
    "while i<=n:\n",
    "    j=1\n",
    "    while j<=i:\n",
    "        print(\"*\",end=\" \")\n",
    "        j=j+1\n",
    "    print(\"\")\n",
    "    i=i+1\n",
    "print()\n",
    "print(\"2nd pattern \\n\")\n",
    "i=1    \n",
    "while i<=n :\n",
    "    j=0\n",
    "    while j <=+n-i :\n",
    "        print (\" * \" , end= \"\")\n",
    "        j= j+1\n",
    "    print ()\n",
    "    i= i+1\n",
    "    \n",
    "print(\"\\n 3rd pattern\\n \")\n",
    "i =1\n",
    "s = \" \"\n",
    "while i<=n:\n",
    "    j=1\n",
    "    print(s*(n-i) , end = \"\")\n",
    "    while j<=i:\n",
    "        print(\"*\",end=\" \")\n",
    "        j=j+1\n",
    "    print(\"\")\n",
    "    i=i+1\n",
    "print()\n",
    "    \n"
   ]
  },
  {
   "cell_type": "code",
   "execution_count": null,
   "id": "27e1e4d1-12dc-4588-83b1-91427dd72fce",
   "metadata": {},
   "outputs": [],
   "source": [
    "print (\"Q7 ans\")\n",
    "i = 10\n",
    "while i>0 :\n",
    "    print (i)\n",
    "    w"
   ]
  }
 ],
 "metadata": {
  "kernelspec": {
   "display_name": "Python 3 (ipykernel)",
   "language": "python",
   "name": "python3"
  },
  "language_info": {
   "codemirror_mode": {
    "name": "ipython",
    "version": 3
   },
   "file_extension": ".py",
   "mimetype": "text/x-python",
   "name": "python",
   "nbconvert_exporter": "python",
   "pygments_lexer": "ipython3",
   "version": "3.10.8"
  }
 },
 "nbformat": 4,
 "nbformat_minor": 5
}
