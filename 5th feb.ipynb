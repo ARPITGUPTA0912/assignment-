{
 "cells": [
  {
   "cell_type": "code",
   "execution_count": 11,
   "id": "dd3c85c9-9b39-4305-a52c-f90b0c276da0",
   "metadata": {},
   "outputs": [
    {
     "name": "stdout",
     "output_type": "stream",
     "text": [
      "5 th feb\n",
      "Q1 ans\n",
      "class is user defined template which  can store variables and functios but it does not hold any memory \n",
      "untill we create an instance  that instance is called object it hold memory  it is called real life entitty \n",
      "\n",
      "example of class and objest is like cars is a class which has many objects with their model number\n",
      "\n",
      "c is object\n",
      "('baleno', 'call from class')\n"
     ]
    }
   ],
   "source": [
    "print (\"5 th feb\")\n",
    "print(\"Q1 ans\")\n",
    "s =\"\"\"class is user defined template which  can store variables and functios but it does not hold any memory \n",
    "untill we create an instance  that instance is called object it hold memory  it is called real life entitty\"\"\"\n",
    "S = \"example of class and objest is like cars is a class which has many objects with their model number\"\n",
    "print(s, \"\\n\")\n",
    "print(S)\n",
    "class  cars :\n",
    "    def __init__ (self , model_name):\n",
    "        self.model_name = model_name\n",
    "    def about(self):\n",
    "        return self.model_name ,\"call from class\" \n",
    "c = cars('baleno')\n",
    "\n",
    "print(\"\\nc is object\")\n",
    "print(c.about())\n"
   ]
  },
  {
   "cell_type": "code",
   "execution_count": 12,
   "id": "89fc3597-958f-45fb-ab96-8df118300ab6",
   "metadata": {},
   "outputs": [
    {
     "name": "stdout",
     "output_type": "stream",
     "text": [
      "Q2 ans\n",
      "the four pillars of OOPs. \n",
      " \n",
      " abstraction \n",
      " encapsulation  \n",
      " inheritance \n",
      " polymorphism\n"
     ]
    }
   ],
   "source": [
    "print (\"Q2 ans\")\n",
    "s1 = \"the four pillars of OOPs.\"\n",
    "print (s1, \"\\n \")\n",
    "s2 = \" abstraction\"\n",
    "s3 = \"encapsulation \"\n",
    "s4=\"inheritance\"\n",
    "s5= \"polymorphism\"\n",
    "print (s2, \"\\n\",s3,\"\\n\", s4,\"\\n\",s5)"
   ]
  },
  {
   "cell_type": "code",
   "execution_count": 13,
   "id": "4b3cf55d-9c4f-44c1-9e6a-edbd17a51d3f",
   "metadata": {},
   "outputs": [
    {
     "name": "stdout",
     "output_type": "stream",
     "text": [
      "Q3 Ans\n",
      "Arpit\n"
     ]
    },
    {
     "ename": "TypeError",
     "evalue": "my.__init__() missing 1 required positional argument: 'name'",
     "output_type": "error",
     "traceback": [
      "\u001b[0;31m---------------------------------------------------------------------------\u001b[0m",
      "\u001b[0;31mTypeError\u001b[0m                                 Traceback (most recent call last)",
      "Cell \u001b[0;32mIn[13], line 9\u001b[0m\n\u001b[1;32m      7\u001b[0m         \u001b[38;5;28mprint\u001b[39m(name)\n\u001b[1;32m      8\u001b[0m m \u001b[38;5;241m=\u001b[39m my (\u001b[38;5;124m\"\u001b[39m\u001b[38;5;124mArpit\u001b[39m\u001b[38;5;124m\"\u001b[39m)\n\u001b[0;32m----> 9\u001b[0m m1\u001b[38;5;241m=\u001b[39m \u001b[43mmy\u001b[49m\u001b[43m(\u001b[49m\u001b[43m)\u001b[49m\n",
      "\u001b[0;31mTypeError\u001b[0m: my.__init__() missing 1 required positional argument: 'name'"
     ]
    }
   ],
   "source": [
    "print(\"Q3 Ans\")\n",
    "s6 = \"__init__ function uses\"\n",
    "s7= \"it is used to make constructor  which ask user  to pass arguments\"\n",
    "class my :\n",
    "    def __init__ (self , name) :\n",
    "        self.name = name\n",
    "        print(name)\n",
    "m = my (\"Arpit\")\n",
    "m1= my()"
   ]
  },
  {
   "cell_type": "code",
   "execution_count": 14,
   "id": "89fafbe2-553e-417e-8ee3-c83583a7fae5",
   "metadata": {},
   "outputs": [
    {
     "name": "stdout",
     "output_type": "stream",
     "text": [
      "Q4 ans\n",
      "self act as pointer to the class or instance of the class\n"
     ]
    }
   ],
   "source": [
    "print(\"Q4 ans\")\n",
    "class sel:\n",
    "    def fun(self):\n",
    "        print (\"self act as pointer to the class or instance of the class\")\n",
    "k = sel ()\n",
    "k.fun()"
   ]
  },
  {
   "cell_type": "code",
   "execution_count": 27,
   "id": "667b8e08-466a-4d7a-8c6b-acbb0515610d",
   "metadata": {},
   "outputs": [
    {
     "name": "stdout",
     "output_type": "stream",
     "text": [
      "Q5 ans\n",
      "Inheritance allows us to define a class that inherits all the methods and properties from another class\n",
      "type of inheritance\n",
      "\n",
      "1) single inheritance\n",
      "\n",
      "child calling parent\n",
      "child class\n",
      "\n",
      "2) multilevel inheritance\n",
      "\n",
      "grandchild calling parent\n",
      "grandchild class\n",
      "\n",
      "3 ) multiple inheritance\n",
      "parent class \n",
      "call all\n",
      "\n",
      " 4) hierarchial inheritance\n",
      "\n",
      "call parent s function but not child or grandchild\n",
      "parent class \n"
     ]
    }
   ],
   "source": [
    "print (\"Q5 ans\")\n",
    "s = \"Inheritance allows us to define a class that inherits all the methods and properties from another class\"\n",
    "print (s)\n",
    "print (\"type of inheritance\\n\" )\n",
    "print(\"1) single inheritance\\n\")\n",
    "class  parent :\n",
    "    def fun(self):\n",
    "        print (\"parent class \")\n",
    "    def foc (self):\n",
    "        print (\"child calling parent\")\n",
    "    def fig (self):\n",
    "        print (\"grandchild calling parent\")\n",
    "class child (parent):\n",
    "    def ty (self):\n",
    "        print (\"child class\")\n",
    "d = child()\n",
    "d.foc()\n",
    "d.ty()\n",
    "print (\"\\n2) multilevel inheritance\\n\")\n",
    "class grandchild(child):\n",
    "    def do(self):\n",
    "        print (\"grandchild class\")\n",
    "c = grandchild()\n",
    "c.fig()\n",
    "c.do()\n",
    "print(\"\\n3 ) multiple inheritance\")\n",
    "class life :\n",
    "    def tan(self):\n",
    "        print(\"new class\")\n",
    "        \n",
    "class new (life, parent) :\n",
    "    def note(self):\n",
    "        print ('call all' )\n",
    "o = new()\n",
    "o.fun()\n",
    "o.note()\n",
    "print(\"\\n 4) hierarchial inheritance\\n\")\n",
    "class li(parent):\n",
    "    def kl (self ):\n",
    "        print (\"call parent s function but not child or grandchild\")\n",
    "b = li()\n",
    "b.kl()\n",
    "b.fun()"
   ]
  },
  {
   "cell_type": "code",
   "execution_count": null,
   "id": "8e0d68dd-a591-42d0-a458-553b5d2c92ec",
   "metadata": {},
   "outputs": [],
   "source": []
  }
 ],
 "metadata": {
  "kernelspec": {
   "display_name": "Python 3 (ipykernel)",
   "language": "python",
   "name": "python3"
  },
  "language_info": {
   "codemirror_mode": {
    "name": "ipython",
    "version": 3
   },
   "file_extension": ".py",
   "mimetype": "text/x-python",
   "name": "python",
   "nbconvert_exporter": "python",
   "pygments_lexer": "ipython3",
   "version": "3.10.8"
  }
 },
 "nbformat": 4,
 "nbformat_minor": 5
}
