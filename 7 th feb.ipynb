{
 "cells": [
  {
   "cell_type": "code",
   "execution_count": 17,
   "id": "b201fd02-f9d6-486f-82ae-53b5742d560e",
   "metadata": {},
   "outputs": [
    {
     "name": "stdout",
     "output_type": "stream",
     "text": [
      "7 th feb\n",
      "Q1 ans\n"
     ]
    },
    {
     "name": "stdin",
     "output_type": "stream",
     "text": [
      "enter password -  fds234567GHJKL;4567890#$%^&*()\n"
     ]
    },
    {
     "name": "stdout",
     "output_type": "stream",
     "text": [
      "valid password\n"
     ]
    }
   ],
   "source": [
    "print('7 th feb')\n",
    "print('Q1 ans')\n",
    "def islower(ch):\n",
    "    if ch>= 'a' and ch<='z':\n",
    "        return True\n",
    "    return False\n",
    "def isupper(ch):\n",
    "    if ch>= 'A' and ch<='Z':\n",
    "        return True\n",
    "    return False\n",
    "def isnum(ch):\n",
    "    if ch>= '0' and ch<='9':\n",
    "        return True\n",
    "    return False\n",
    "def valid_password():\n",
    "    m=1\n",
    "    while m == 1:\n",
    "        st = input('enter password - ')\n",
    "        l=0\n",
    "        u=0\n",
    "        n=0\n",
    "        s=0\n",
    "        for i in st:\n",
    "            if islower(i):\n",
    "                l= l+1\n",
    "            elif isupper(i):\n",
    "                u=u+1\n",
    "            elif isnum(i):\n",
    "                n=n+1\n",
    "            elif i ==\"!\" or i=='@' or i=='#' or i=='$' or i=='%' or i=='^' or i=='&' or i=='*':\n",
    "                s=s+1\n",
    "            else:\n",
    "                pass\n",
    "        if l>=2 and u>=2 and n>=1 and s>=3 and len(st)>=10:\n",
    "            m =0\n",
    "            print(\"valid password\")\n",
    "        else:\n",
    "            print(\"invalid password\")\n",
    "            print(\"try again\")\n",
    "            s ='''1. The Password should contain at least two uppercase letters and at least two lowercase letters.\n",
    "2. The Password should contain at least a number and three special characters(!, @,#,$,%,^,&,*).\n",
    "3. The length of the password should be 10 characters long.'''\n",
    "            print(s)\n",
    "            \n",
    "            \n",
    "v = valid_password()"
   ]
  },
  {
   "cell_type": "code",
   "execution_count": 3,
   "id": "6d64da5c-c583-44a8-b31e-88b74072fcc5",
   "metadata": {},
   "outputs": [
    {
     "name": "stdout",
     "output_type": "stream",
     "text": [
      "Q2 ans\n",
      "False\n"
     ]
    }
   ],
   "source": [
    "print('Q2 ans')\n",
    "print(\"part a\")\n",
    "st ='fesa'\n",
    "sd =lambda st :True if st[0]=='a'else False\n",
    "d = sd(st)\n",
    "print(d)"
   ]
  },
  {
   "cell_type": "code",
   "execution_count": 9,
   "id": "49644b45-1a5d-4c45-905f-3e204366b431",
   "metadata": {},
   "outputs": [
    {
     "name": "stdout",
     "output_type": "stream",
     "text": [
      "False\n"
     ]
    }
   ],
   "source": [
    "print(\"part b\")\n",
    "st =\"34f\"\n",
    "s = lambda x: x.isdigit()\n",
    "d =s(st)\n",
    "print(d)\n"
   ]
  },
  {
   "cell_type": "code",
   "execution_count": 17,
   "id": "ffc5432e-4588-4b8b-ab65-5d91008899d4",
   "metadata": {},
   "outputs": [
    {
     "name": "stdout",
     "output_type": "stream",
     "text": [
      "part c\n",
      "[('orange', 80), ('mango', 99), ('grapes', 1000)]\n"
     ]
    }
   ],
   "source": [
    "print(\"part c\")\n",
    "m =[(\"mango\",99),(\"orange\",80), (\"grapes\", 1000)]\n",
    "m.sort(key =lambda x : x[1])\n",
    "print(m)"
   ]
  },
  {
   "cell_type": "code",
   "execution_count": 10,
   "id": "9cd5efda-6ec2-483a-8e71-aa7c5c38563f",
   "metadata": {},
   "outputs": [
    {
     "name": "stdout",
     "output_type": "stream",
     "text": [
      "part d\n"
     ]
    },
    {
     "data": {
      "text/plain": [
       "[1, 4, 9, 16, 25, 36, 49, 64, 81, 100]"
      ]
     },
     "execution_count": 10,
     "metadata": {},
     "output_type": "execute_result"
    }
   ],
   "source": [
    "print (\"part d\")\n",
    "[i*i  for i in range(1,11) ]"
   ]
  },
  {
   "cell_type": "code",
   "execution_count": 11,
   "id": "c6f0935d-41cc-4353-a9a2-6dda24b19ec7",
   "metadata": {},
   "outputs": [
    {
     "name": "stdout",
     "output_type": "stream",
     "text": [
      "part e\n"
     ]
    },
    {
     "data": {
      "text/plain": [
       "[1.0,\n",
       " 1.2599210498948734,\n",
       " 1.4422495703074083,\n",
       " 1.5874010519681996,\n",
       " 1.7099759466766968,\n",
       " 1.8171205928321394,\n",
       " 1.9129311827723894,\n",
       " 2.0,\n",
       " 2.080083823051904,\n",
       " 2.1544346900318834]"
      ]
     },
     "execution_count": 11,
     "metadata": {},
     "output_type": "execute_result"
    }
   ],
   "source": [
    "print (\"part e\")\n",
    "import numpy as np\n",
    "\n",
    "[np.cbrt(i)  for i in range(1,11) ]"
   ]
  },
  {
   "cell_type": "code",
   "execution_count": 19,
   "id": "19427d79-95ab-4261-b662-113addde7291",
   "metadata": {},
   "outputs": [
    {
     "name": "stdout",
     "output_type": "stream",
     "text": [
      "part f\n"
     ]
    },
    {
     "name": "stdin",
     "output_type": "stream",
     "text": [
      "enter no 789\n"
     ]
    },
    {
     "data": {
      "text/plain": [
       "False"
      ]
     },
     "execution_count": 19,
     "metadata": {},
     "output_type": "execute_result"
    }
   ],
   "source": [
    "print (\"part f\")\n",
    "even = lambda x :True  if x%2==0 else False\n",
    "e = int(input (\"enter no\"))\n",
    "even(e)"
   ]
  },
  {
   "cell_type": "code",
   "execution_count": 24,
   "id": "1e8c0bdf-71c8-496b-8669-6ad292b7dd37",
   "metadata": {},
   "outputs": [
    {
     "name": "stdout",
     "output_type": "stream",
     "text": [
      "part f\n",
      "[1, 3, 5, 7, 9]\n"
     ]
    }
   ],
   "source": [
    "print (\"part g\")\n",
    "\n",
    "l3 =[1,2,3,4,5,6,7,8,9,10]\n",
    "l3 = list(filter(lambda x : x%2!= 0, l3))\n",
    "print(l3)"
   ]
  },
  {
   "cell_type": "code",
   "execution_count": null,
   "id": "4b6762e5-8fa8-4a99-8fc2-1affb4592fed",
   "metadata": {},
   "outputs": [],
   "source": [
    "print (\"part h\")\n",
    "l4 =[1,2,3,4,5,6,-1,-2,-3,-4,-5,0]\n",
    "l5 ="
   ]
  }
 ],
 "metadata": {
  "kernelspec": {
   "display_name": "Python 3 (ipykernel)",
   "language": "python",
   "name": "python3"
  },
  "language_info": {
   "codemirror_mode": {
    "name": "ipython",
    "version": 3
   },
   "file_extension": ".py",
   "mimetype": "text/x-python",
   "name": "python",
   "nbconvert_exporter": "python",
   "pygments_lexer": "ipython3",
   "version": "3.10.8"
  }
 },
 "nbformat": 4,
 "nbformat_minor": 5
}
