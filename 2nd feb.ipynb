{
 "cells": [
  {
   "cell_type": "code",
   "execution_count": 6,
   "id": "8a199e01-3d25-443a-a3c4-eb71bfa7bc4f",
   "metadata": {},
   "outputs": [
    {
     "name": "stdout",
     "output_type": "stream",
     "text": [
      "2nd feb\n",
      "Q1 Ans\n",
      "0 using for loop\n",
      "1 using for loop\n",
      "2 using for loop\n",
      "3 using for loop\n",
      "4 using for loop\n",
      "\n",
      "1 using while loop\n",
      "2 using while loop\n",
      "3 using while loop\n",
      "4 using while loop\n",
      "5 using while loop\n"
     ]
    }
   ],
   "source": [
    "print (\"2nd feb\")\n",
    "print (\"Q1 Ans\")\n",
    "for i in range (5):\n",
    "    print (i , \"using for loop\")\n",
    "i =1\n",
    "print ()\n",
    "while i<= 5 :\n",
    "    print(i , \"using while loop\")\n",
    "    i= i+1"
   ]
  },
  {
   "cell_type": "code",
   "execution_count": 13,
   "id": "a3ebf7af-2f21-490c-ad69-043da085fbc5",
   "metadata": {},
   "outputs": [
    {
     "name": "stdout",
     "output_type": "stream",
     "text": [
      "Q2 ans\n",
      "using for loop\n",
      "product  is  3628800\n",
      "sum is  55\n",
      "\n",
      "using while loop\n",
      "product  is  3628800\n",
      "sum is  55\n"
     ]
    }
   ],
   "source": [
    "print(\"Q2 ans\")\n",
    "print (\"using for loop\")\n",
    "s =0\n",
    "p  =1\n",
    "for i in range (1, 11,1) :\n",
    "    \n",
    "\n",
    "    s  = s+i\n",
    "   \n",
    "    p =p*i\n",
    "print (\"product  is \" , p)\n",
    "print (\"sum is \", s)\n",
    "print()\n",
    "print (\"using while loop\" )\n",
    "i1 =1\n",
    "s1=0\n",
    "p1=1\n",
    "while i1<=10 :\n",
    "    s1=s1+i1\n",
    "    p1=p1*i1\n",
    "    i1= i1+1\n",
    "print (\"product  is \" , p1)\n",
    "print (\"sum is \", s1)"
   ]
  },
  {
   "cell_type": "code",
   "execution_count": 18,
   "id": "c48fb18c-77db-4a2e-989d-f2797651fea4",
   "metadata": {},
   "outputs": [
    {
     "name": "stdin",
     "output_type": "stream",
     "text": [
      "enter number of units 2250\n"
     ]
    },
    {
     "name": "stdout",
     "output_type": "stream",
     "text": [
      "Rs .  41050.0\n"
     ]
    }
   ],
   "source": [
    "print (\"Q3 Ans\")\n",
    "unit = int(input(\"enter number of units\") )\n",
    "bill= 0\n",
    "if unit>300 :\n",
    "    bill = (unit -300)*20 +100*4.5 +100 *6 +100*10\n",
    "elif unit >200 and unit <=300:\n",
    "    bill = (unit -200)*10 +100*4.5 +100 *6\n",
    "    \n",
    "elif unit >= 100 and unit <= 200:\n",
    "     bill = (unit -100)*6 +100*4.5\n",
    "else :\n",
    "    bill = (unit -100)*4.5\n",
    "    \n",
    "print (\"Rs . \",bill )"
   ]
  },
  {
   "cell_type": "code",
   "execution_count": 33,
   "id": "ee5a7741-345a-4797-a500-bcc7c651f571",
   "metadata": {},
   "outputs": [
    {
     "name": "stdout",
     "output_type": "stream",
     "text": [
      "Q4 ans\n",
      "using for loop\n",
      "\n",
      "[2, 4, 5, 6, 8, 10, 12, 14, 15, 16, 18, 20, 22, 24, 25, 26, 28, 30, 32, 34, 35, 36, 38, 40, 42, 44, 45, 46, 48, 50, 52, 54, 55, 56, 58, 60, 62, 64, 65, 66, 68, 70, 72, 74, 75, 76, 78, 80, 82, 84, 85, 86, 88, 90, 92, 94, 95, 96, 98, 100] \n",
      "\n",
      "using while loop\n",
      "\n",
      "[2, 4, 5, 6, 8, 10, 12, 14, 15, 16, 18, 20, 22, 24, 25, 26, 28, 30, 32, 34, 35, 36, 38, 40, 42, 44, 45, 46, 48, 50, 52, 54, 55, 56, 58, 60, 62, 64, 65, 66, 68, 70, 72, 74, 75, 76, 78, 80, 82, 84, 85, 86, 88, 90, 92, 94, 95, 96, 98, 100]\n"
     ]
    }
   ],
   "source": [
    "print (\"Q4 ans\")\n",
    "print (\"using for loop\\n\")\n",
    "l =list(range (1 , 101,1))\n",
    "l1=[]\n",
    "\n",
    "for i in l:\n",
    "    m= i**3\n",
    "    if m%4==0 or m%5==0:\n",
    "        l1.append(i)\n",
    "    else:\n",
    "        pass\n",
    "print (l1, \"\\n\")\n",
    "\n",
    "print (\"using while loop\\n\")\n",
    "i1=0\n",
    "l2=[]\n",
    "while i1<100 :\n",
    "    m=l[i1]**3\n",
    "    if m%4==0 or m%5==0:\n",
    "        l2.append(l[i1])\n",
    "    else:\n",
    "        pass\n",
    "    i1= i1+1\n",
    "print (l2 )"
   ]
  },
  {
   "cell_type": "code",
   "execution_count": 35,
   "id": "52bc5d0e-46f3-4e7a-8e3c-d0b1df3412aa",
   "metadata": {},
   "outputs": [
    {
     "name": "stdout",
     "output_type": "stream",
     "text": [
      "11\n"
     ]
    }
   ],
   "source": [
    "print(\"Q5 ans\")\n",
    "s=\"I want to become a data scientist\"\n",
    "count= 0\n",
    "for i in s:\n",
    "    if i in ['a' ,'e' ,'i' ,'o', 'u']:\n",
    "        count =count +1\n",
    "    else :\n",
    "        pass\n",
    "print (count)\n"
   ]
  },
  {
   "cell_type": "code",
   "execution_count": null,
   "id": "f6b237bf-6bd7-4cb1-86d1-ec4caa5b64c0",
   "metadata": {},
   "outputs": [],
   "source": []
  }
 ],
 "metadata": {
  "kernelspec": {
   "display_name": "Python 3 (ipykernel)",
   "language": "python",
   "name": "python3"
  },
  "language_info": {
   "codemirror_mode": {
    "name": "ipython",
    "version": 3
   },
   "file_extension": ".py",
   "mimetype": "text/x-python",
   "name": "python",
   "nbconvert_exporter": "python",
   "pygments_lexer": "ipython3",
   "version": "3.10.8"
  }
 },
 "nbformat": 4,
 "nbformat_minor": 5
}
