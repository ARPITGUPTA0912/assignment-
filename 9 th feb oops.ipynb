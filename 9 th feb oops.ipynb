{
 "cells": [
  {
   "cell_type": "code",
   "execution_count": 15,
   "id": "8aac95ca-f202-4ed5-b02c-deac650f8eb0",
   "metadata": {},
   "outputs": [
    {
     "name": "stdout",
     "output_type": "stream",
     "text": [
      "9th feb oops\n",
      "Q1, Create a vehicle class with an init method having instance variables as name_of_vehicle,\n",
      "max_speed and average_of_vehicle.\n",
      "Ans\n"
     ]
    },
    {
     "data": {
      "text/plain": [
       "('scooty', 100, 45)"
      ]
     },
     "execution_count": 15,
     "metadata": {},
     "output_type": "execute_result"
    }
   ],
   "source": [
    "print(\"9th feb oops\")\n",
    "q1=\"\"\"Q1, Create a vehicle class with an init method having instance variables as name_of_vehicle,\n",
    "max_speed and average_of_vehicle.\"\"\"\n",
    "print(q1)\n",
    "print(\"Ans\")\n",
    "class vehicle:\n",
    "    def __init__(self , name_of_vehicle, max_speed, average_of_vehicle ):\n",
    "        self.name_of_vehicle = name_of_vehicle\n",
    "        self.max_speed = max_speed\n",
    "        self.average_of_vehicle =average_of_vehicle\n",
    "    def information(self):\n",
    "        return self.name_of_vehicle , self.max_speed, self.average_of_vehicle\n",
    "d1 = vehicle( 'scooty' , 100,45)\n",
    "d1.information()\n"
   ]
  },
  {
   "cell_type": "code",
   "execution_count": 18,
   "id": "219e3d2e-35d8-4a5b-ba5e-0310bc5ebee3",
   "metadata": {},
   "outputs": [
    {
     "name": "stdout",
     "output_type": "stream",
     "text": [
      "Q2. Create a child class car from the vehicle class created in Que 1, which will inherit the\n",
      "vehicle class. Create a method named seating_capacity which takes capacity as an argument and \n",
      "returns the name of the vehicle and its seating capacity.\n",
      "Ans\n"
     ]
    },
    {
     "data": {
      "text/plain": [
       "(5, 'baleno')"
      ]
     },
     "execution_count": 18,
     "metadata": {},
     "output_type": "execute_result"
    }
   ],
   "source": [
    "q2='''Q2. Create a child class car from the vehicle class created in Que 1, which will inherit the\n",
    "vehicle class. Create a method named seating_capacity which takes capacity as an argument and \n",
    "returns the name of the vehicle and its seating capacity.'''\n",
    "print(q2)\n",
    "print(\"Ans\")\n",
    "class car(vehicle):\n",
    "    def seating_capacity(self, capacity):\n",
    "        self.capacity = capacity\n",
    "        return self.capacity ,self.name_of_vehicle\n",
    "d2 = car('baleno',200,50)\n",
    "d2.seating_capacity(5)\n"
   ]
  },
  {
   "cell_type": "code",
   "execution_count": 21,
   "id": "01ce3042-d99c-4577-b2b5-8dede1e9b3f4",
   "metadata": {},
   "outputs": [
    {
     "name": "stdout",
     "output_type": "stream",
     "text": [
      "Q3. What is multiple inheritance? Write a python code to demonstrate multiple inheritance.\n",
      "Ans\n",
      "class can inherit features from more than one parent object or parent class is called\n",
      "multiple inheritance \n",
      "example\n"
     ]
    },
    {
     "data": {
      "text/plain": [
       "(('baleno', 200, 100), 5, 4)"
      ]
     },
     "execution_count": 21,
     "metadata": {},
     "output_type": "execute_result"
    }
   ],
   "source": [
    "q3='Q3. What is multiple inheritance? Write a python code to demonstrate multiple inheritance.'\n",
    "print(q3)\n",
    "print(\"Ans\")\n",
    "ans= \"\"\"class can inherit features from more than one parent object or parent class is called\n",
    "multiple inheritance \"\"\"\n",
    "print(ans)\n",
    "print (\"example\")\n",
    "class vehicle:\n",
    "    def __init__(self , name_of_vehicle, max_speed, average_of_vehicle ):\n",
    "        self.name_of_vehicle = name_of_vehicle\n",
    "        self.max_speed = max_speed\n",
    "        self.average_of_vehicle =average_of_vehicle\n",
    "    def information(self):\n",
    "        return self.name_of_vehicle , self.max_speed, self.average_of_vehicle\n",
    "class car:\n",
    "    def seating_capacity(self, capacity):\n",
    "        self.capacity = capacity\n",
    "        return self.capacity \n",
    "class tyer(vehicle , car):\n",
    "    def numbrer(self , tier):\n",
    "        self.tier = tier\n",
    "        return self.information() ,self.capacity, self.tier\n",
    "d3 = tyer(\"baleno\", 200, 100)\n",
    "d3.seating_capacity(5)\n",
    "d3.numbrer(4)"
   ]
  },
  {
   "cell_type": "code",
   "execution_count": 40,
   "id": "0124939a-b119-4479-a445-36e235504ed9",
   "metadata": {},
   "outputs": [
    {
     "name": "stdout",
     "output_type": "stream",
     "text": [
      "Q4. What are getter and setter in python? Create a class and create a getter and a setter\n",
      "method in this class.\n",
      "Ans\n",
      "getter and setter methods are methods to get and set the value of private variable\n",
      "Example\n"
     ]
    },
    {
     "data": {
      "text/plain": [
       "123"
      ]
     },
     "execution_count": 40,
     "metadata": {},
     "output_type": "execute_result"
    }
   ],
   "source": [
    "q4='''Q4. What are getter and setter in python? Create a class and create a getter and a setter\n",
    "method in this class.'''\n",
    "print(q4)\n",
    "print(\"Ans\")\n",
    "ans='''getter and setter methods are methods to get and set the value of private variable'''\n",
    "print(ans)\n",
    "print(\"Example\")\n",
    "class votercard:\n",
    "    def voter( self,name , age):\n",
    "        self.name = name\n",
    "        self.__voterid = 0\n",
    "        self.age=age\n",
    "    def getvoterid(self):\n",
    "        return self.__voterid\n",
    "    def setvoterid(self,x):\n",
    "        if self.age>=18:\n",
    "            self.__voterid= x\n",
    "        else:\n",
    "            pass\n",
    "s= votercard()\n",
    "s.voter(\"arpit\",  18 )\n",
    "s.name\n",
    "s.getvoterid()\n",
    "s.setvoterid(123)\n",
    "s.getvoterid()\n",
    "\n",
    "    "
   ]
  },
  {
   "cell_type": "code",
   "execution_count": 44,
   "id": "712dfce8-6791-4249-992f-cdf9d0fd28a9",
   "metadata": {},
   "outputs": [
    {
     "name": "stdout",
     "output_type": "stream",
     "text": [
      "Q5.What is method overriding in python? Write a python code to demonstrate method overriding.\n",
      "Ans\n",
      "method overriding if two methods have same name and the which method will execute determine\n",
      "by object\n",
      "Example\n",
      "for object of class vehicle unknown\n",
      "for object of class car 4\n"
     ]
    }
   ],
   "source": [
    "q5 ='Q5.What is method overriding in python? Write a python code to demonstrate method overriding.'\n",
    "print(q5)\n",
    "print(\"Ans\")\n",
    "ans ='''method overriding if two methods have same name and the which method will execute determine\n",
    "by object'''\n",
    "print(ans)\n",
    "print(\"Example\")\n",
    "class vehicle:\n",
    "    def __init__(self , name_of_vehicle, max_speed, average_of_vehicle ):\n",
    "        self.name_of_vehicle = name_of_vehicle\n",
    "        self.max_speed = max_speed\n",
    "        self.average_of_vehicle =average_of_vehicle\n",
    "    def seating_capacity(self):\n",
    "        return \"unknown\"\n",
    "    def information(self):\n",
    "        return self.name_of_vehicle , self.max_speed, self.average_of_vehicle\n",
    "class car(vehicle):\n",
    "    def seating_capacity(self, capacity):\n",
    "        self.capacity = capacity\n",
    "        return self.capacity \n",
    "d1= vehicle(\"baleno\", 100,20)\n",
    "d2=car('baleno',100,20)\n",
    "print (\"for object of class vehicle\",d1.seating_capacity())\n",
    "\n",
    "print(\"for object of class car\",d2.seating_capacity(4))"
   ]
  },
  {
   "cell_type": "code",
   "execution_count": null,
   "id": "accdaca8-680c-490b-9cba-09d124c1fe82",
   "metadata": {},
   "outputs": [],
   "source": []
  }
 ],
 "metadata": {
  "kernelspec": {
   "display_name": "Python 3 (ipykernel)",
   "language": "python",
   "name": "python3"
  },
  "language_info": {
   "codemirror_mode": {
    "name": "ipython",
    "version": 3
   },
   "file_extension": ".py",
   "mimetype": "text/x-python",
   "name": "python",
   "nbconvert_exporter": "python",
   "pygments_lexer": "ipython3",
   "version": "3.10.8"
  }
 },
 "nbformat": 4,
 "nbformat_minor": 5
}
