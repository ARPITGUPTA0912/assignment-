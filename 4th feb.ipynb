{
 "cells": [
  {
   "cell_type": "code",
   "execution_count": 4,
   "id": "1310e120-db00-4043-9a56-6a5a78bbb8b6",
   "metadata": {},
   "outputs": [
    {
     "name": "stdout",
     "output_type": "stream",
     "text": [
      "4th feb assignment\n",
      "Q1 Ans\n",
      "[('Virat Kohli', 24936), ('Jack Kallis', 25534), ('Ricky Ponting', 27483), ('Sachin Tendulkar', 34357)]\n"
     ]
    }
   ],
   "source": [
    "print ('4th feb assignment')\n",
    "print ( \"Q1 Ans\")\n",
    "\n",
    "l =[('Sachin Tendulkar', 34357), ('Ricky Ponting', 27483), ('Jack Kallis', 25534), ('Virat Kohli', 24936)]\n",
    "l.sort( key = lambda x : x[1])\n",
    "print (l)\n",
    "\n"
   ]
  },
  {
   "cell_type": "code",
   "execution_count": 3,
   "id": "78ccc84c-383e-4e26-b602-087626ffc64e",
   "metadata": {},
   "outputs": [
    {
     "name": "stdout",
     "output_type": "stream",
     "text": [
      "Q2 ans\n"
     ]
    },
    {
     "data": {
      "text/plain": [
       "[1, 4, 9, 16, 25, 36, 49, 64, 81, 100]"
      ]
     },
     "execution_count": 3,
     "metadata": {},
     "output_type": "execute_result"
    }
   ],
   "source": [
    "print (\"Q2 ans\")\n",
    "l1 =[1, 2, 3, 4, 5, 6, 7, 8, 9, 10]\n",
    "list (map (lambda x: x*x , l1))"
   ]
  },
  {
   "cell_type": "code",
   "execution_count": 3,
   "id": "f901d85c-6467-4a81-9338-4d8f9c92ffea",
   "metadata": {},
   "outputs": [
    {
     "name": "stdout",
     "output_type": "stream",
     "text": [
      "Q3 ans\n"
     ]
    },
    {
     "data": {
      "text/plain": [
       "('1', '2', '3', '4', '5', '6', '7', '8', '9', '10')"
      ]
     },
     "execution_count": 3,
     "metadata": {},
     "output_type": "execute_result"
    }
   ],
   "source": [
    "print (\"Q3 ans\")\n",
    "l2 = [1, 2, 3, 4, 5, 6, 7, 8, 9, 10]\n",
    "tuple(map( lambda x: str(x) , l2))"
   ]
  },
  {
   "cell_type": "code",
   "execution_count": 2,
   "id": "d580e30b-2360-4b71-a653-30ad72562007",
   "metadata": {},
   "outputs": [
    {
     "name": "stdout",
     "output_type": "stream",
     "text": [
      "Q4 Ans\n",
      "[1, 2, 3, 4, 5, 6, 7, 8, 9, 10, 11, 12, 13, 14, 15, 16, 17, 18, 19, 20, 21, 22, 23, 24, 25]\n",
      "15511210043330985984000000\n"
     ]
    }
   ],
   "source": [
    "print (\"Q4 Ans\")\n",
    "l3 =list(range(1,26,1)) \n",
    "print (l3)\n",
    "from functools import reduce\n",
    "a = reduce( lambda x, y: x*y, l3)\n",
    "print (a)"
   ]
  },
  {
   "cell_type": "code",
   "execution_count": 14,
   "id": "4d746553-dd16-492c-8fec-2cce94a6e36b",
   "metadata": {},
   "outputs": [
    {
     "name": "stdout",
     "output_type": "stream",
     "text": [
      "Q5 Ans\n",
      "[6, 60, 90, 120]\n"
     ]
    }
   ],
   "source": [
    "print(\"Q5 Ans\")\n",
    "l4 =[2, 3, 6, 9, 27, 60, 90, 120, 55, 46]\n",
    "\n",
    "l5 = list(filter(lambda x : x%6==0  , l4))\n",
    "print (l5)"
   ]
  },
  {
   "cell_type": "code",
   "execution_count": null,
   "id": "0bdca390-83af-4cd2-8291-1dfffbbbad8c",
   "metadata": {},
   "outputs": [],
   "source": [
    "rint(\"Q6 Ans\")\n",
    "l6 =['python', 'php', 'aba', 'radar', 'level']\n",
    "l5 = list(filter(lambda x : x==x[::-1  , l4))\n",
    "print (l5)"
   ]
  },
  {
   "cell_type": "code",
   "execution_count": null,
   "id": "9ae5ef30-cf9a-4a02-86dd-38895239480a",
   "metadata": {},
   "outputs": [],
   "source": []
  }
 ],
 "metadata": {
  "kernelspec": {
   "display_name": "Python 3 (ipykernel)",
   "language": "python",
   "name": "python3"
  },
  "language_info": {
   "codemirror_mode": {
    "name": "ipython",
    "version": 3
   },
   "file_extension": ".py",
   "mimetype": "text/x-python",
   "name": "python",
   "nbconvert_exporter": "python",
   "pygments_lexer": "ipython3",
   "version": "3.10.8"
  }
 },
 "nbformat": 4,
 "nbformat_minor": 5
}
