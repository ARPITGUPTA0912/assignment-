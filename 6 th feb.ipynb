{
 "cells": [
  {
   "cell_type": "code",
   "execution_count": 23,
   "id": "0332139b-6db2-4033-a8e5-9d8dfbefe49f",
   "metadata": {},
   "outputs": [
    {
     "name": "stdout",
     "output_type": "stream",
     "text": [
      "6 th feb \n",
      "Q1 ans\n",
      "initial list -  [1, 2, 3, 4, [44, 55, 66, True], False, (34, 56, 78, 89, 34), {1, 2, 3}, {1: 34, 'key2': [55, 67, 78, 89], 4: (45, 22, 61, 34)}, [56, 'data science'], 'Machine Learning']\n",
      "flat list -  [1, 2, 3, 4, 44, 55, 66, True, False, 34, 56, 78, 89, 34, 1, 2, 3, 1, 'key2', 4, 34, 55, 67, 78, 89, 45, 22, 61, 34, 56, 'data science', 'Machine Learning']\n",
      "flat list with numeric values -  [1, 2, 3, 4, 44, 55, 66, 34, 56, 78, 89, 34, 1, 2, 3, 1, 4, 34, 55, 67, 78, 89, 45, 22, 61, 34, 56]\n",
      "product of numeric values -  4134711838987085478833841242112000\n"
     ]
    }
   ],
   "source": [
    "print (\"6 th feb \")\n",
    "print (\"Q1 ans\")\n",
    "def product(p):\n",
    "    print (\"initial list - \", p)\n",
    "    m=[]\n",
    "    for i in p:\n",
    "        if type(i)==dict:\n",
    "            m.append(list(i))\n",
    "            m.append(list(i.values()))\n",
    "        elif type(i)== set :\n",
    "            m.append(list(i))\n",
    "        elif type(i) ==tuple:\n",
    "            m.append(list(i))\n",
    "        elif type(i) ==list:\n",
    "            m.append(i)\n",
    "        elif type(i)== int:\n",
    "            m.append(i)\n",
    "        else:\n",
    "            m.append(i)\n",
    " \n",
    "    def flatten_list(_2d_list):\n",
    "        flat_list = []\n",
    "        # Iterate through the outer list\n",
    "        for element in _2d_list:\n",
    "            if type(element) is list:\n",
    "                # If the element is of type list, iterate through the sublist\n",
    "                for item in element:\n",
    "                    flat_list.append(item)\n",
    "            else:\n",
    "                if type(element) == int or type(element)== complex or type(element) ==bool or type(element) == str :\n",
    "                    flat_list.append(element)\n",
    "                else:\n",
    "                    a= list(element)\n",
    "                    for item in a:\n",
    "                        flat_list.append(item)\n",
    "\n",
    "\n",
    "\n",
    "\n",
    "        return flat_list\n",
    "    n = flatten_list(m)\n",
    "    l = flatten_list(n)\n",
    "    print ('flat list - ' ,l)\n",
    " \n",
    "    c = []\n",
    "    for i in l:\n",
    "        if type(i) == int or type(i) ==float:\n",
    "            c.append(i)\n",
    "        else:\n",
    "            pass\n",
    "    print('flat list with numeric values - ', c)\n",
    "    from functools import reduce\n",
    "    a = reduce(lambda x, y : x*y , c)\n",
    "    return a\n",
    "px=[1,2,3,4, [44,55,66, True], False, (34,56,78,89,34), {1,2,3,3,2,1}, {1:34, \"key2\": [55, 67, 78, 89], 4: (45,\n",
    "22, 61, 34)}, [56, 'data science'], 'Machine Learning']\n",
    "n =product(px)\n",
    "print ('product of numeric values - ', n)"
   ]
  },
  {
   "cell_type": "code",
   "execution_count": 17,
   "id": "42438212-3e9b-4c0a-b8be-e6728cc3c55a",
   "metadata": {},
   "outputs": [
    {
     "name": "stdout",
     "output_type": "stream",
     "text": [
      "Q2 Ans\n",
      "The encryption of string  I want to become a Data Scientist . is - \n",
      "r$dzmg$gl$yvxlnv$z$wzgz$hxrvmgrhg$.None\n"
     ]
    }
   ],
   "source": [
    "print (\"Q2 Ans\" )\n",
    "\n",
    "def isword(ch):\n",
    "    if ch >= 'a' and ch <= 'z':\n",
    "        return True\n",
    "    return False\n",
    "\n",
    "   \n",
    "\n",
    "def encryption(wor):\n",
    "    wo = wor.lower()\n",
    "    word= wo.replace(\" \",'$')\n",
    "    ch = ''\n",
    "    for i in range(len(word)):\n",
    "\n",
    "\n",
    "        if isword(word[i]):\n",
    "            ch = chr(ord('z') -\n",
    "                         ord(word[i]) + ord('a'))\n",
    "            print(ch, end = \"\")\n",
    "           \n",
    "\n",
    "\n",
    "        else:\n",
    "            print(word[i], end = \"\")\n",
    "\n",
    "    \n",
    "s = \"I want to become a Data Scientist .\"\n",
    "\n",
    "\n",
    "print(\"The encryption of string \", s, \"is - \")\n",
    "m = encryption(p)\n",
    "print (m)"
   ]
  },
  {
   "cell_type": "code",
   "execution_count": null,
   "id": "cb9406c8-ec8d-413a-8029-c262e91bf474",
   "metadata": {},
   "outputs": [],
   "source": []
  },
  {
   "cell_type": "code",
   "execution_count": null,
   "id": "000b4fe2-9ec6-4b4b-8b2a-c6691dffeb81",
   "metadata": {},
   "outputs": [],
   "source": []
  },
  {
   "cell_type": "code",
   "execution_count": null,
   "id": "1917f6ac-3a9c-4dd4-9dbd-ab9adbde63be",
   "metadata": {},
   "outputs": [],
   "source": []
  }
 ],
 "metadata": {
  "kernelspec": {
   "display_name": "Python 3 (ipykernel)",
   "language": "python",
   "name": "python3"
  },
  "language_info": {
   "codemirror_mode": {
    "name": "ipython",
    "version": 3
   },
   "file_extension": ".py",
   "mimetype": "text/x-python",
   "name": "python",
   "nbconvert_exporter": "python",
   "pygments_lexer": "ipython3",
   "version": "3.10.8"
  }
 },
 "nbformat": 4,
 "nbformat_minor": 5
}
